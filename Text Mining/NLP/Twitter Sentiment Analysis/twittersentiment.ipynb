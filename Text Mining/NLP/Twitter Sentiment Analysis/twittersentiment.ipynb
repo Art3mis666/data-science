{
 "cells": [
  {
   "cell_type": "markdown",
   "metadata": {},
   "source": [
    "# Twitter Sentiment Anaylsis with 1.6 Million Dataset"
   ]
  },
  {
   "cell_type": "code",
   "execution_count": 35,
   "metadata": {},
   "outputs": [],
   "source": [
    "#DataFrame\n",
    "import pandas as pd\n",
    "\n",
    "#MatPlot\n",
    "import matplotlib.pyplot as plt\n",
    "%matplotlib inline\n",
    "\n",
    "#Scikit-Learn\n",
    "from sklearn.model_selection import train_test_split\n",
    "from sklearn.preprocessing import LabelEncoder\n",
    "from sklearn.metrics import confusion_matrix, classification_report, accuracy_score\n",
    "from sklearn.manifold import TSNE\n",
    "from sklearn.feature_extraction.text import TfidfVectorizer\n",
    "\n",
    "#Keras\n",
    "from keras.preprocessing.text import Tokenizer\n",
    "from keras.utils import pad_sequences\n",
    "from keras.models import Sequential\n",
    "from keras.layers import Activation, Dense, Dropout, Embedding, Flatten, Conv1D, MaxPool1D, LSTM\n",
    "from keras import utils\n",
    "from keras.callbacks import ReduceLROnPlateau, EarlyStopping\n",
    "\n",
    "#NLTK\n",
    "import nltk\n",
    "from nltk.corpus import stopwords\n",
    "from nltk.stem import SnowballStemmer\n",
    "\n",
    "#Word2Vec\n",
    "import gensim\n",
    "\n",
    "#Utility\n",
    "import re\n",
    "import numpy as np\n",
    "import os\n",
    "from collections import Counter\n",
    "import logging\n",
    "import time\n",
    "import pickle\n",
    "import itertools\n",
    "\n",
    "#Set log\n",
    "logging.basicConfig(format='%(asctime)s : $(levelname)s : %(message)s', level=logging.INFO)\n"
   ]
  },
  {
   "cell_type": "code",
   "execution_count": 36,
   "metadata": {},
   "outputs": [
    {
     "name": "stderr",
     "output_type": "stream",
     "text": [
      "[nltk_data] Downloading package stopwords to C:\\Users\\NAUFAL\n",
      "[nltk_data]     HAFIZH\\AppData\\Roaming\\nltk_data...\n",
      "[nltk_data]   Package stopwords is already up-to-date!\n"
     ]
    },
    {
     "data": {
      "text/plain": [
       "True"
      ]
     },
     "execution_count": 36,
     "metadata": {},
     "output_type": "execute_result"
    }
   ],
   "source": [
    "nltk.download('stopwords')"
   ]
  },
  {
   "cell_type": "markdown",
   "metadata": {},
   "source": [
    "### Variable Settings"
   ]
  },
  {
   "cell_type": "code",
   "execution_count": 37,
   "metadata": {},
   "outputs": [],
   "source": [
    "# DATASET\n",
    "DATASET_COLUMNS=[\"target\",\"ids\",\"date\",\"flag\",\"user\",\"text\"]\n",
    "DATASET_ENCODING=\"ISO-8859-1\"\n",
    "TRAIN_SIZE=0.8\n",
    "\n",
    "# TEXT CLEANING\n",
    "TEXT_CLEANING_RE=\"@\\S+|https?:\\S+|http?:\\S|[^A-Za-z0-9]+\"\n",
    "\n",
    "# WORD2VEC\n",
    "W2V_SIZE=300\n",
    "W2V_WINDOW=7\n",
    "W2V_EPOCH=32\n",
    "W2V_MIN_COUNT=10\n",
    "\n",
    "# KERAS\n",
    "SEQUENCE_LENGTH=300\n",
    "EPOCHS=8\n",
    "BATCH_SIZE=1024\n",
    "\n",
    "#SENTIMENT\n",
    "POSITIVE=\"POSITIVE\"\n",
    "NEGATIVE=\"NEGATIVE\"\n",
    "NEUTRAL=\"NEUTRAL\"\n",
    "SENTIMENT_THRESHOLD=(0.4,0.7)\n",
    "\n",
    "#EXPORT\n",
    "KERAS_MODEL=\"model.h5\"\n",
    "WORD2VEC_MODEL=\"model.w2v\"\n",
    "TOKENIZER_MODEL=\"tokenizer.pkl\"\n",
    "ENCODER_MODEL=\"encoder.pkl\""
   ]
  },
  {
   "cell_type": "markdown",
   "metadata": {},
   "source": [
    "### Read Dataset"
   ]
  },
  {
   "cell_type": "code",
   "execution_count": 40,
   "metadata": {},
   "outputs": [],
   "source": [
    "df=pd.read_csv('training.1600000.processed.noemoticon.csv',encoding=DATASET_ENCODING,names=DATASET_COLUMNS)"
   ]
  },
  {
   "cell_type": "code",
   "execution_count": 41,
   "metadata": {},
   "outputs": [
    {
     "name": "stdout",
     "output_type": "stream",
     "text": [
      "Dataset Size :  1600000\n"
     ]
    }
   ],
   "source": [
    "print('Dataset Size : ',len(df))"
   ]
  },
  {
   "cell_type": "code",
   "execution_count": 42,
   "metadata": {},
   "outputs": [
    {
     "data": {
      "text/html": [
       "<div>\n",
       "<style scoped>\n",
       "    .dataframe tbody tr th:only-of-type {\n",
       "        vertical-align: middle;\n",
       "    }\n",
       "\n",
       "    .dataframe tbody tr th {\n",
       "        vertical-align: top;\n",
       "    }\n",
       "\n",
       "    .dataframe thead th {\n",
       "        text-align: right;\n",
       "    }\n",
       "</style>\n",
       "<table border=\"1\" class=\"dataframe\">\n",
       "  <thead>\n",
       "    <tr style=\"text-align: right;\">\n",
       "      <th></th>\n",
       "      <th>target</th>\n",
       "      <th>ids</th>\n",
       "      <th>date</th>\n",
       "      <th>flag</th>\n",
       "      <th>user</th>\n",
       "      <th>text</th>\n",
       "    </tr>\n",
       "  </thead>\n",
       "  <tbody>\n",
       "    <tr>\n",
       "      <th>0</th>\n",
       "      <td>0</td>\n",
       "      <td>1467810369</td>\n",
       "      <td>Mon Apr 06 22:19:45 PDT 2009</td>\n",
       "      <td>NO_QUERY</td>\n",
       "      <td>_TheSpecialOne_</td>\n",
       "      <td>@switchfoot http://twitpic.com/2y1zl - Awww, t...</td>\n",
       "    </tr>\n",
       "    <tr>\n",
       "      <th>1</th>\n",
       "      <td>0</td>\n",
       "      <td>1467810672</td>\n",
       "      <td>Mon Apr 06 22:19:49 PDT 2009</td>\n",
       "      <td>NO_QUERY</td>\n",
       "      <td>scotthamilton</td>\n",
       "      <td>is upset that he can't update his Facebook by ...</td>\n",
       "    </tr>\n",
       "    <tr>\n",
       "      <th>2</th>\n",
       "      <td>0</td>\n",
       "      <td>1467810917</td>\n",
       "      <td>Mon Apr 06 22:19:53 PDT 2009</td>\n",
       "      <td>NO_QUERY</td>\n",
       "      <td>mattycus</td>\n",
       "      <td>@Kenichan I dived many times for the ball. Man...</td>\n",
       "    </tr>\n",
       "    <tr>\n",
       "      <th>3</th>\n",
       "      <td>0</td>\n",
       "      <td>1467811184</td>\n",
       "      <td>Mon Apr 06 22:19:57 PDT 2009</td>\n",
       "      <td>NO_QUERY</td>\n",
       "      <td>ElleCTF</td>\n",
       "      <td>my whole body feels itchy and like its on fire</td>\n",
       "    </tr>\n",
       "    <tr>\n",
       "      <th>4</th>\n",
       "      <td>0</td>\n",
       "      <td>1467811193</td>\n",
       "      <td>Mon Apr 06 22:19:57 PDT 2009</td>\n",
       "      <td>NO_QUERY</td>\n",
       "      <td>Karoli</td>\n",
       "      <td>@nationwideclass no, it's not behaving at all....</td>\n",
       "    </tr>\n",
       "  </tbody>\n",
       "</table>\n",
       "</div>"
      ],
      "text/plain": [
       "   target         ids                          date      flag  \\\n",
       "0       0  1467810369  Mon Apr 06 22:19:45 PDT 2009  NO_QUERY   \n",
       "1       0  1467810672  Mon Apr 06 22:19:49 PDT 2009  NO_QUERY   \n",
       "2       0  1467810917  Mon Apr 06 22:19:53 PDT 2009  NO_QUERY   \n",
       "3       0  1467811184  Mon Apr 06 22:19:57 PDT 2009  NO_QUERY   \n",
       "4       0  1467811193  Mon Apr 06 22:19:57 PDT 2009  NO_QUERY   \n",
       "\n",
       "              user                                               text  \n",
       "0  _TheSpecialOne_  @switchfoot http://twitpic.com/2y1zl - Awww, t...  \n",
       "1    scotthamilton  is upset that he can't update his Facebook by ...  \n",
       "2         mattycus  @Kenichan I dived many times for the ball. Man...  \n",
       "3          ElleCTF    my whole body feels itchy and like its on fire   \n",
       "4           Karoli  @nationwideclass no, it's not behaving at all....  "
      ]
     },
     "execution_count": 42,
     "metadata": {},
     "output_type": "execute_result"
    }
   ],
   "source": [
    "df.head()"
   ]
  },
  {
   "cell_type": "code",
   "execution_count": 43,
   "metadata": {},
   "outputs": [],
   "source": [
    "decode_map={0:\"NEGATIVE\",2:\"NEUTRAL\",4:\"POSITIVE\"}\n",
    "def decode_sentiment(label):\n",
    "  return decode_map[int(label)]"
   ]
  },
  {
   "cell_type": "code",
   "execution_count": 44,
   "metadata": {},
   "outputs": [
    {
     "name": "stdout",
     "output_type": "stream",
     "text": [
      "CPU times: total: 547 ms\n",
      "Wall time: 605 ms\n"
     ]
    }
   ],
   "source": [
    "%%time\n",
    "df.target=df.target.apply(lambda x:decode_sentiment(x))"
   ]
  },
  {
   "cell_type": "code",
   "execution_count": 45,
   "metadata": {},
   "outputs": [
    {
     "data": {
      "text/plain": [
       "Text(0.5, 1.0, 'Dataset Table Distribution')"
      ]
     },
     "execution_count": 45,
     "metadata": {},
     "output_type": "execute_result"
    },
    {
     "data": {
      "image/png": "[encoded data removed]",
      "text/plain": [
       "<Figure size 1600x800 with 1 Axes>"
      ]
     },
     "metadata": {},
     "output_type": "display_data"
    }
   ],
   "source": [
    "target_cnt=Counter(df.target)\n",
    "\n",
    "plt.figure(figsize=(16,8))\n",
    "plt.bar(target_cnt.keys(),target_cnt.values())\n",
    "plt.title(\"Dataset Table Distribution\")"
   ]
  },
  {
   "cell_type": "markdown",
   "metadata": {},
   "source": [
    "### Pre-Process Dataset"
   ]
  },
  {
   "cell_type": "code",
   "execution_count": 46,
   "metadata": {},
   "outputs": [],
   "source": [
    "stop_words=stopwords.words('english')\n",
    "stemmer=SnowballStemmer('english')"
   ]
  },
  {
   "cell_type": "code",
   "execution_count": 47,
   "metadata": {},
   "outputs": [],
   "source": [
    "def preprocess(text,stem=False):\n",
    "  # Remove link, user, and special characters\n",
    "  text=re.sub(TEXT_CLEANING_RE,' ',str(text).lower()).strip()\n",
    "  tokens=[]\n",
    "\n",
    "  for token in text.split():\n",
    "    if token not in stop_words:\n",
    "      if stem:\n",
    "        tokens.append(stemmer.stem(token))\n",
    "      else:\n",
    "        tokens.append(token)\n",
    "  return \" \".join(tokens)"
   ]
  },
  {
   "cell_type": "code",
   "execution_count": 49,
   "metadata": {},
   "outputs": [
    {
     "name": "stdout",
     "output_type": "stream",
     "text": [
      "CPU times: total: 59.2 s\n",
      "Wall time: 1min 1s\n"
     ]
    }
   ],
   "source": [
    "%%time\n",
    "df.text=df.text.apply(lambda x: preprocess(x))"
   ]
  },
  {
   "cell_type": "markdown",
   "metadata": {},
   "source": [
    "### Split Train and Test"
   ]
  },
  {
   "cell_type": "code",
   "execution_count": 50,
   "metadata": {},
   "outputs": [
    {
     "name": "stdout",
     "output_type": "stream",
     "text": [
      "TRAIN Size :  1280000\n",
      "TEST Size ;  320000\n"
     ]
    }
   ],
   "source": [
    "df_train,df_test=train_test_split(df,test_size=1-TRAIN_SIZE,random_state=42)\n",
    "print('TRAIN Size : ',len(df_train))\n",
    "print('TEST Size ; ',len(df_test))"
   ]
  },
  {
   "cell_type": "markdown",
   "metadata": {},
   "source": [
    "### Word2Vec"
   ]
  },
  {
   "cell_type": "code",
   "execution_count": 52,
   "metadata": {},
   "outputs": [
    {
     "name": "stdout",
     "output_type": "stream",
     "text": [
      "CPU times: total: 3.41 s\n",
      "Wall time: 3.75 s\n"
     ]
    }
   ],
   "source": [
    "%%time\n",
    "documents=[_text.split() for _text in df_train.text]"
   ]
  },
  {
   "cell_type": "code",
   "execution_count": 56,
   "metadata": {},
   "outputs": [
    {
     "name": "stderr",
     "output_type": "stream",
     "text": [
      "2022-11-27 14:52:58,415 : $(levelname)s : Word2Vec lifecycle event {'params': 'Word2Vec<vocab=0, vector_size=300, alpha=0.025>', 'datetime': '2022-11-27T14:52:58.415071', 'gensim': '4.2.0', 'python': '3.9.15 (main, Nov 23 2022, 09:27:34) [MSC v.1916 64 bit (AMD64)]', 'platform': 'Windows-10-10.0.19045-SP0', 'event': 'created'}\n"
     ]
    }
   ],
   "source": [
    "w2v_model = gensim.models.word2vec.Word2Vec(vector_size=W2V_SIZE, \n",
    "                                            window=W2V_WINDOW, \n",
    "                                            min_count=W2V_MIN_COUNT, \n",
    "                                            workers=8)"
   ]
  },
  {
   "cell_type": "code",
   "execution_count": 57,
   "metadata": {},
   "outputs": [
    {
     "name": "stderr",
     "output_type": "stream",
     "text": [
      "2022-11-27 14:55:32,947 : $(levelname)s : collecting all words and their counts\n",
      "2022-11-27 14:55:32,948 : $(levelname)s : PROGRESS: at sentence #0, processed 0 words, keeping 0 word types\n",
      "2022-11-27 14:55:32,972 : $(levelname)s : PROGRESS: at sentence #10000, processed 72565 words, keeping 14005 word types\n",
      "2022-11-27 14:55:32,999 : $(levelname)s : PROGRESS: at sentence #20000, processed 144393 words, keeping 21587 word types\n",
      "2022-11-27 14:55:33,033 : $(levelname)s : PROGRESS: at sentence #30000, processed 215826 words, keeping 27541 word types\n",
      "2022-11-27 14:55:33,075 : $(levelname)s : PROGRESS: at sentence #40000, processed 288271 words, keeping 32764 word types\n",
      "2022-11-27 14:55:33,113 : $(levelname)s : PROGRESS: at sentence #50000, processed 359772 words, keeping 37587 word types\n",
      "2022-11-27 14:55:33,141 : $(levelname)s : PROGRESS: at sentence #60000, processed 431431 words, keeping 42198 word types\n",
      "2022-11-27 14:55:33,168 : $(levelname)s : PROGRESS: at sentence #70000, processed 503103 words, keeping 46458 word types\n",
      "2022-11-27 14:55:33,203 : $(levelname)s : PROGRESS: at sentence #80000, processed 575709 words, keeping 50476 word types\n",
      "2022-11-27 14:55:33,248 : $(levelname)s : PROGRESS: at sentence #90000, processed 647100 words, keeping 54140 word types\n",
      "2022-11-27 14:55:33,284 : $(levelname)s : PROGRESS: at sentence #100000, processed 718681 words, keeping 57777 word types\n",
      "2022-11-27 14:55:33,312 : $(levelname)s : PROGRESS: at sentence #110000, processed 790696 words, keeping 61207 word types\n",
      "2022-11-27 14:55:33,338 : $(levelname)s : PROGRESS: at sentence #120000, processed 863134 words, keeping 64583 word types\n",
      "2022-11-27 14:55:33,366 : $(levelname)s : PROGRESS: at sentence #130000, processed 935111 words, keeping 67865 word types\n",
      "2022-11-27 14:55:33,392 : $(levelname)s : PROGRESS: at sentence #140000, processed 1006668 words, keeping 70966 word types\n",
      "2022-11-27 14:55:33,420 : $(levelname)s : PROGRESS: at sentence #150000, processed 1078512 words, keeping 74119 word types\n",
      "2022-11-27 14:55:33,446 : $(levelname)s : PROGRESS: at sentence #160000, processed 1149914 words, keeping 77187 word types\n",
      "2022-11-27 14:55:33,472 : $(levelname)s : PROGRESS: at sentence #170000, processed 1222145 words, keeping 80267 word types\n",
      "2022-11-27 14:55:33,501 : $(levelname)s : PROGRESS: at sentence #180000, processed 1294708 words, keeping 83393 word types\n",
      "2022-11-27 14:55:33,529 : $(levelname)s : PROGRESS: at sentence #190000, processed 1367608 words, keeping 86329 word types\n",
      "2022-11-27 14:55:33,558 : $(levelname)s : PROGRESS: at sentence #200000, processed 1439469 words, keeping 89103 word types\n",
      "2022-11-27 14:55:33,582 : $(levelname)s : PROGRESS: at sentence #210000, processed 1512099 words, keeping 91840 word types\n",
      "2022-11-27 14:55:33,618 : $(levelname)s : PROGRESS: at sentence #220000, processed 1584149 words, keeping 94636 word types\n",
      "2022-11-27 14:55:33,647 : $(levelname)s : PROGRESS: at sentence #230000, processed 1656354 words, keeping 97353 word types\n",
      "2022-11-27 14:55:33,673 : $(levelname)s : PROGRESS: at sentence #240000, processed 1728573 words, keeping 99975 word types\n",
      "2022-11-27 14:55:33,698 : $(levelname)s : PROGRESS: at sentence #250000, processed 1801102 words, keeping 102594 word types\n",
      "2022-11-27 14:55:33,727 : $(levelname)s : PROGRESS: at sentence #260000, processed 1873103 words, keeping 105162 word types\n",
      "2022-11-27 14:55:33,754 : $(levelname)s : PROGRESS: at sentence #270000, processed 1945245 words, keeping 107626 word types\n",
      "2022-11-27 14:55:33,780 : $(levelname)s : PROGRESS: at sentence #280000, processed 2017163 words, keeping 110141 word types\n",
      "2022-11-27 14:55:33,811 : $(levelname)s : PROGRESS: at sentence #290000, processed 2089574 words, keeping 112539 word types\n",
      "2022-11-27 14:55:33,838 : $(levelname)s : PROGRESS: at sentence #300000, processed 2160996 words, keeping 114893 word types\n",
      "2022-11-27 14:55:33,866 : $(levelname)s : PROGRESS: at sentence #310000, processed 2232913 words, keeping 117298 word types\n",
      "2022-11-27 14:55:33,891 : $(levelname)s : PROGRESS: at sentence #320000, processed 2305039 words, keeping 119693 word types\n",
      "2022-11-27 14:55:33,920 : $(levelname)s : PROGRESS: at sentence #330000, processed 2377119 words, keeping 122131 word types\n",
      "2022-11-27 14:55:33,947 : $(levelname)s : PROGRESS: at sentence #340000, processed 2449370 words, keeping 124416 word types\n",
      "2022-11-27 14:55:33,973 : $(levelname)s : PROGRESS: at sentence #350000, processed 2521564 words, keeping 126669 word types\n",
      "2022-11-27 14:55:33,998 : $(levelname)s : PROGRESS: at sentence #360000, processed 2593681 words, keeping 128912 word types\n",
      "2022-11-27 14:55:34,026 : $(levelname)s : PROGRESS: at sentence #370000, processed 2665692 words, keeping 131135 word types\n",
      "2022-11-27 14:55:34,053 : $(levelname)s : PROGRESS: at sentence #380000, processed 2737859 words, keeping 133403 word types\n",
      "2022-11-27 14:55:34,080 : $(levelname)s : PROGRESS: at sentence #390000, processed 2809848 words, keeping 135551 word types\n",
      "2022-11-27 14:55:34,107 : $(levelname)s : PROGRESS: at sentence #400000, processed 2882438 words, keeping 137742 word types\n",
      "2022-11-27 14:55:34,133 : $(levelname)s : PROGRESS: at sentence #410000, processed 2954075 words, keeping 139909 word types\n",
      "2022-11-27 14:55:34,181 : $(levelname)s : PROGRESS: at sentence #420000, processed 3026247 words, keeping 142144 word types\n",
      "2022-11-27 14:55:34,211 : $(levelname)s : PROGRESS: at sentence #430000, processed 3098659 words, keeping 144364 word types\n",
      "2022-11-27 14:55:34,241 : $(levelname)s : PROGRESS: at sentence #440000, processed 3170663 words, keeping 146439 word types\n",
      "2022-11-27 14:55:34,270 : $(levelname)s : PROGRESS: at sentence #450000, processed 3243344 words, keeping 148526 word types\n",
      "2022-11-27 14:55:34,295 : $(levelname)s : PROGRESS: at sentence #460000, processed 3315466 words, keeping 150610 word types\n",
      "2022-11-27 14:55:34,321 : $(levelname)s : PROGRESS: at sentence #470000, processed 3388295 words, keeping 152737 word types\n",
      "2022-11-27 14:55:34,350 : $(levelname)s : PROGRESS: at sentence #480000, processed 3460120 words, keeping 154757 word types\n",
      "2022-11-27 14:55:34,375 : $(levelname)s : PROGRESS: at sentence #490000, processed 3531883 words, keeping 156825 word types\n",
      "2022-11-27 14:55:34,413 : $(levelname)s : PROGRESS: at sentence #500000, processed 3604217 words, keeping 158859 word types\n",
      "2022-11-27 14:55:34,442 : $(levelname)s : PROGRESS: at sentence #510000, processed 3676427 words, keeping 160852 word types\n",
      "2022-11-27 14:55:34,474 : $(levelname)s : PROGRESS: at sentence #520000, processed 3749045 words, keeping 162863 word types\n",
      "2022-11-27 14:55:34,502 : $(levelname)s : PROGRESS: at sentence #530000, processed 3821622 words, keeping 164929 word types\n",
      "2022-11-27 14:55:34,533 : $(levelname)s : PROGRESS: at sentence #540000, processed 3893627 words, keeping 166840 word types\n",
      "2022-11-27 14:55:34,565 : $(levelname)s : PROGRESS: at sentence #550000, processed 3965477 words, keeping 168799 word types\n",
      "2022-11-27 14:55:34,594 : $(levelname)s : PROGRESS: at sentence #560000, processed 4038050 words, keeping 170802 word types\n",
      "2022-11-27 14:55:34,628 : $(levelname)s : PROGRESS: at sentence #570000, processed 4110296 words, keeping 172760 word types\n",
      "2022-11-27 14:55:34,657 : $(levelname)s : PROGRESS: at sentence #580000, processed 4182385 words, keeping 174635 word types\n",
      "2022-11-27 14:55:34,698 : $(levelname)s : PROGRESS: at sentence #590000, processed 4254632 words, keeping 176470 word types\n",
      "2022-11-27 14:55:34,731 : $(levelname)s : PROGRESS: at sentence #600000, processed 4326859 words, keeping 178350 word types\n",
      "2022-11-27 14:55:34,762 : $(levelname)s : PROGRESS: at sentence #610000, processed 4399183 words, keeping 180290 word types\n",
      "2022-11-27 14:55:34,794 : $(levelname)s : PROGRESS: at sentence #620000, processed 4471343 words, keeping 182129 word types\n",
      "2022-11-27 14:55:34,830 : $(levelname)s : PROGRESS: at sentence #630000, processed 4543286 words, keeping 184005 word types\n",
      "2022-11-27 14:55:34,863 : $(levelname)s : PROGRESS: at sentence #640000, processed 4615780 words, keeping 185835 word types\n",
      "2022-11-27 14:55:34,894 : $(levelname)s : PROGRESS: at sentence #650000, processed 4688481 words, keeping 187705 word types\n",
      "2022-11-27 14:55:34,933 : $(levelname)s : PROGRESS: at sentence #660000, processed 4760481 words, keeping 189439 word types\n",
      "2022-11-27 14:55:34,966 : $(levelname)s : PROGRESS: at sentence #670000, processed 4833024 words, keeping 191232 word types\n",
      "2022-11-27 14:55:34,991 : $(levelname)s : PROGRESS: at sentence #680000, processed 4904516 words, keeping 193177 word types\n",
      "2022-11-27 14:55:35,016 : $(levelname)s : PROGRESS: at sentence #690000, processed 4976968 words, keeping 194960 word types\n",
      "2022-11-27 14:55:35,055 : $(levelname)s : PROGRESS: at sentence #700000, processed 5049412 words, keeping 196725 word types\n",
      "2022-11-27 14:55:35,097 : $(levelname)s : PROGRESS: at sentence #710000, processed 5121976 words, keeping 198516 word types\n",
      "2022-11-27 14:55:35,124 : $(levelname)s : PROGRESS: at sentence #720000, processed 5193881 words, keeping 200325 word types\n",
      "2022-11-27 14:55:35,160 : $(levelname)s : PROGRESS: at sentence #730000, processed 5265467 words, keeping 202133 word types\n",
      "2022-11-27 14:55:35,189 : $(levelname)s : PROGRESS: at sentence #740000, processed 5337518 words, keeping 203818 word types\n",
      "2022-11-27 14:55:35,217 : $(levelname)s : PROGRESS: at sentence #750000, processed 5409321 words, keeping 205535 word types\n",
      "2022-11-27 14:55:35,268 : $(levelname)s : PROGRESS: at sentence #760000, processed 5481512 words, keeping 207282 word types\n",
      "2022-11-27 14:55:35,311 : $(levelname)s : PROGRESS: at sentence #770000, processed 5554093 words, keeping 209076 word types\n",
      "2022-11-27 14:55:35,343 : $(levelname)s : PROGRESS: at sentence #780000, processed 5625382 words, keeping 210805 word types\n",
      "2022-11-27 14:55:35,373 : $(levelname)s : PROGRESS: at sentence #790000, processed 5698066 words, keeping 212618 word types\n",
      "2022-11-27 14:55:35,414 : $(levelname)s : PROGRESS: at sentence #800000, processed 5770880 words, keeping 214374 word types\n",
      "2022-11-27 14:55:35,445 : $(levelname)s : PROGRESS: at sentence #810000, processed 5843418 words, keeping 216009 word types\n",
      "2022-11-27 14:55:35,480 : $(levelname)s : PROGRESS: at sentence #820000, processed 5915628 words, keeping 217804 word types\n",
      "2022-11-27 14:55:35,513 : $(levelname)s : PROGRESS: at sentence #830000, processed 5987499 words, keeping 219585 word types\n",
      "2022-11-27 14:55:35,543 : $(levelname)s : PROGRESS: at sentence #840000, processed 6058973 words, keeping 221344 word types\n",
      "2022-11-27 14:55:35,571 : $(levelname)s : PROGRESS: at sentence #850000, processed 6131125 words, keeping 223002 word types\n",
      "2022-11-27 14:55:35,600 : $(levelname)s : PROGRESS: at sentence #860000, processed 6202951 words, keeping 224643 word types\n",
      "2022-11-27 14:55:35,627 : $(levelname)s : PROGRESS: at sentence #870000, processed 6275461 words, keeping 226362 word types\n",
      "2022-11-27 14:55:35,652 : $(levelname)s : PROGRESS: at sentence #880000, processed 6347661 words, keeping 227986 word types\n",
      "2022-11-27 14:55:35,682 : $(levelname)s : PROGRESS: at sentence #890000, processed 6419806 words, keeping 229634 word types\n",
      "2022-11-27 14:55:35,712 : $(levelname)s : PROGRESS: at sentence #900000, processed 6491644 words, keeping 231389 word types\n",
      "2022-11-27 14:55:35,739 : $(levelname)s : PROGRESS: at sentence #910000, processed 6564022 words, keeping 233050 word types\n",
      "2022-11-27 14:55:35,767 : $(levelname)s : PROGRESS: at sentence #920000, processed 6636228 words, keeping 234686 word types\n",
      "2022-11-27 14:55:35,795 : $(levelname)s : PROGRESS: at sentence #930000, processed 6708573 words, keeping 236393 word types\n",
      "2022-11-27 14:55:35,823 : $(levelname)s : PROGRESS: at sentence #940000, processed 6779956 words, keeping 238052 word types\n",
      "2022-11-27 14:55:35,850 : $(levelname)s : PROGRESS: at sentence #950000, processed 6852599 words, keeping 239716 word types\n",
      "2022-11-27 14:55:35,877 : $(levelname)s : PROGRESS: at sentence #960000, processed 6924717 words, keeping 241354 word types\n",
      "2022-11-27 14:55:35,906 : $(levelname)s : PROGRESS: at sentence #970000, processed 6996992 words, keeping 242980 word types\n",
      "2022-11-27 14:55:35,951 : $(levelname)s : PROGRESS: at sentence #980000, processed 7068402 words, keeping 244646 word types\n",
      "2022-11-27 14:55:35,980 : $(levelname)s : PROGRESS: at sentence #990000, processed 7140346 words, keeping 246186 word types\n",
      "2022-11-27 14:55:36,006 : $(levelname)s : PROGRESS: at sentence #1000000, processed 7211757 words, keeping 247726 word types\n",
      "2022-11-27 14:55:36,034 : $(levelname)s : PROGRESS: at sentence #1010000, processed 7283267 words, keeping 249288 word types\n",
      "2022-11-27 14:55:36,061 : $(levelname)s : PROGRESS: at sentence #1020000, processed 7355299 words, keeping 250860 word types\n",
      "2022-11-27 14:55:36,089 : $(levelname)s : PROGRESS: at sentence #1030000, processed 7426918 words, keeping 252366 word types\n",
      "2022-11-27 14:55:36,115 : $(levelname)s : PROGRESS: at sentence #1040000, processed 7498815 words, keeping 253930 word types\n",
      "2022-11-27 14:55:36,141 : $(levelname)s : PROGRESS: at sentence #1050000, processed 7570499 words, keeping 255471 word types\n",
      "2022-11-27 14:55:36,168 : $(levelname)s : PROGRESS: at sentence #1060000, processed 7643251 words, keeping 257035 word types\n",
      "2022-11-27 14:55:36,196 : $(levelname)s : PROGRESS: at sentence #1070000, processed 7714721 words, keeping 258509 word types\n",
      "2022-11-27 14:55:36,226 : $(levelname)s : PROGRESS: at sentence #1080000, processed 7787371 words, keeping 260071 word types\n",
      "2022-11-27 14:55:36,262 : $(levelname)s : PROGRESS: at sentence #1090000, processed 7859336 words, keeping 261683 word types\n",
      "2022-11-27 14:55:36,287 : $(levelname)s : PROGRESS: at sentence #1100000, processed 7932029 words, keeping 263278 word types\n",
      "2022-11-27 14:55:36,313 : $(levelname)s : PROGRESS: at sentence #1110000, processed 8004146 words, keeping 264800 word types\n",
      "2022-11-27 14:55:36,342 : $(levelname)s : PROGRESS: at sentence #1120000, processed 8075880 words, keeping 266309 word types\n",
      "2022-11-27 14:55:36,369 : $(levelname)s : PROGRESS: at sentence #1130000, processed 8148163 words, keeping 267826 word types\n",
      "2022-11-27 14:55:36,396 : $(levelname)s : PROGRESS: at sentence #1140000, processed 8220487 words, keeping 269391 word types\n",
      "2022-11-27 14:55:36,430 : $(levelname)s : PROGRESS: at sentence #1150000, processed 8292498 words, keeping 270894 word types\n",
      "2022-11-27 14:55:36,456 : $(levelname)s : PROGRESS: at sentence #1160000, processed 8363838 words, keeping 272400 word types\n",
      "2022-11-27 14:55:36,483 : $(levelname)s : PROGRESS: at sentence #1170000, processed 8435510 words, keeping 273970 word types\n",
      "2022-11-27 14:55:36,508 : $(levelname)s : PROGRESS: at sentence #1180000, processed 8507795 words, keeping 275521 word types\n",
      "2022-11-27 14:55:36,533 : $(levelname)s : PROGRESS: at sentence #1190000, processed 8579080 words, keeping 277007 word types\n",
      "2022-11-27 14:55:36,561 : $(levelname)s : PROGRESS: at sentence #1200000, processed 8650606 words, keeping 278457 word types\n",
      "2022-11-27 14:55:36,588 : $(levelname)s : PROGRESS: at sentence #1210000, processed 8721893 words, keeping 279959 word types\n",
      "2022-11-27 14:55:36,624 : $(levelname)s : PROGRESS: at sentence #1220000, processed 8793795 words, keeping 281427 word types\n",
      "2022-11-27 14:55:36,651 : $(levelname)s : PROGRESS: at sentence #1230000, processed 8865726 words, keeping 282981 word types\n",
      "2022-11-27 14:55:36,679 : $(levelname)s : PROGRESS: at sentence #1240000, processed 8938173 words, keeping 284542 word types\n",
      "2022-11-27 14:55:36,708 : $(levelname)s : PROGRESS: at sentence #1250000, processed 9010842 words, keeping 286064 word types\n",
      "2022-11-27 14:55:36,737 : $(levelname)s : PROGRESS: at sentence #1260000, processed 9083261 words, keeping 287521 word types\n",
      "2022-11-27 14:55:36,766 : $(levelname)s : PROGRESS: at sentence #1270000, processed 9155616 words, keeping 288987 word types\n",
      "2022-11-27 14:55:36,799 : $(levelname)s : collected 290418 word types from a corpus of 9227204 raw words and 1280000 sentences\n",
      "2022-11-27 14:55:36,800 : $(levelname)s : Creating a fresh vocabulary\n",
      "2022-11-27 14:55:37,235 : $(levelname)s : Word2Vec lifecycle event {'msg': 'effective_min_count=10 retains 30369 unique words (10.46% of original 290418, drops 260049)', 'datetime': '2022-11-27T14:55:37.235190', 'gensim': '4.2.0', 'python': '3.9.15 (main, Nov 23 2022, 09:27:34) [MSC v.1916 64 bit (AMD64)]', 'platform': 'Windows-10-10.0.19045-SP0', 'event': 'prepare_vocab'}\n",
      "2022-11-27 14:55:37,236 : $(levelname)s : Word2Vec lifecycle event {'msg': 'effective_min_count=10 leaves 8780739 word corpus (95.16% of original 9227204, drops 446465)', 'datetime': '2022-11-27T14:55:37.236189', 'gensim': '4.2.0', 'python': '3.9.15 (main, Nov 23 2022, 09:27:34) [MSC v.1916 64 bit (AMD64)]', 'platform': 'Windows-10-10.0.19045-SP0', 'event': 'prepare_vocab'}\n",
      "2022-11-27 14:55:37,596 : $(levelname)s : deleting the raw counts dictionary of 290418 items\n",
      "2022-11-27 14:55:37,604 : $(levelname)s : sample=0.001 downsamples 45 most-common words\n",
      "2022-11-27 14:55:37,605 : $(levelname)s : Word2Vec lifecycle event {'msg': 'downsampling leaves estimated 8222658.616429881 word corpus (93.6%% of prior 8780739)', 'datetime': '2022-11-27T14:55:37.605127', 'gensim': '4.2.0', 'python': '3.9.15 (main, Nov 23 2022, 09:27:34) [MSC v.1916 64 bit (AMD64)]', 'platform': 'Windows-10-10.0.19045-SP0', 'event': 'prepare_vocab'}\n",
      "2022-11-27 14:55:38,201 : $(levelname)s : estimated required memory for 30369 words and 300 dimensions: 88070100 bytes\n",
      "2022-11-27 14:55:38,203 : $(levelname)s : resetting layer weights\n",
      "2022-11-27 14:55:38,277 : $(levelname)s : Word2Vec lifecycle event {'update': False, 'trim_rule': 'None', 'datetime': '2022-11-27T14:55:38.277097', 'gensim': '4.2.0', 'python': '3.9.15 (main, Nov 23 2022, 09:27:34) [MSC v.1916 64 bit (AMD64)]', 'platform': 'Windows-10-10.0.19045-SP0', 'event': 'build_vocab'}\n"
     ]
    }
   ],
   "source": [
    "w2v_model.build_vocab(documents)"
   ]
  },
  {
   "cell_type": "code",
   "execution_count": 59,
   "metadata": {},
   "outputs": [
    {
     "name": "stdout",
     "output_type": "stream",
     "text": [
      "Vocab Size :  30369\n"
     ]
    }
   ],
   "source": [
    "words=w2v_model.wv.key_to_index.keys()\n",
    "vocab_size=len(words)\n",
    "print(\"Vocab Size : \",vocab_size)"
   ]
  },
  {
   "cell_type": "code",
   "execution_count": 60,
   "metadata": {},
   "outputs": [
    {
     "name": "stderr",
     "output_type": "stream",
     "text": [
      "2022-11-27 15:00:22,311 : $(levelname)s : Word2Vec lifecycle event {'msg': 'training model with 8 workers on 30369 vocabulary and 300 features, using sg=0 hs=0 sample=0.001 negative=5 window=7 shrink_windows=True', 'datetime': '2022-11-27T15:00:22.311322', 'gensim': '4.2.0', 'python': '3.9.15 (main, Nov 23 2022, 09:27:34) [MSC v.1916 64 bit (AMD64)]', 'platform': 'Windows-10-10.0.19045-SP0', 'event': 'train'}\n",
      "2022-11-27 15:00:23,389 : $(levelname)s : EPOCH 0 - PROGRESS: at 7.71% examples, 621231 words/s, in_qsize 16, out_qsize 0\n",
      "2022-11-27 15:00:24,392 : $(levelname)s : EPOCH 0 - PROGRESS: at 16.05% examples, 652427 words/s, in_qsize 15, out_qsize 0\n",
      "2022-11-27 15:00:25,401 : $(levelname)s : EPOCH 0 - PROGRESS: at 21.79% examples, 590892 words/s, in_qsize 15, out_qsize 0\n",
      "2022-11-27 15:00:26,420 : $(levelname)s : EPOCH 0 - PROGRESS: at 29.16% examples, 591766 words/s, in_qsize 16, out_qsize 2\n",
      "2022-11-27 15:00:27,460 : $(levelname)s : EPOCH 0 - PROGRESS: at 37.27% examples, 602111 words/s, in_qsize 15, out_qsize 0\n",
      "2022-11-27 15:00:28,481 : $(levelname)s : EPOCH 0 - PROGRESS: at 44.18% examples, 594709 words/s, in_qsize 16, out_qsize 2\n",
      "2022-11-27 15:00:29,502 : $(levelname)s : EPOCH 0 - PROGRESS: at 51.97% examples, 599628 words/s, in_qsize 16, out_qsize 1\n",
      "2022-11-27 15:00:30,588 : $(levelname)s : EPOCH 0 - PROGRESS: at 59.12% examples, 591900 words/s, in_qsize 15, out_qsize 0\n",
      "2022-11-27 15:00:31,596 : $(levelname)s : EPOCH 0 - PROGRESS: at 66.69% examples, 594828 words/s, in_qsize 14, out_qsize 1\n",
      "2022-11-27 15:00:32,653 : $(levelname)s : EPOCH 0 - PROGRESS: at 74.49% examples, 596011 words/s, in_qsize 15, out_qsize 0\n",
      "2022-11-27 15:00:33,674 : $(levelname)s : EPOCH 0 - PROGRESS: at 82.64% examples, 601295 words/s, in_qsize 15, out_qsize 0\n",
      "2022-11-27 15:00:34,677 : $(levelname)s : EPOCH 0 - PROGRESS: at 90.11% examples, 602160 words/s, in_qsize 15, out_qsize 0\n",
      "2022-11-27 15:00:35,686 : $(levelname)s : EPOCH 0 - PROGRESS: at 98.36% examples, 607368 words/s, in_qsize 15, out_qsize 0\n",
      "2022-11-27 15:00:35,838 : $(levelname)s : EPOCH 0: training on 9227204 raw words (8221541 effective words) took 13.5s, 610529 effective words/s\n",
      "2022-11-27 15:00:36,876 : $(levelname)s : EPOCH 1 - PROGRESS: at 7.38% examples, 600076 words/s, in_qsize 15, out_qsize 0\n",
      "2022-11-27 15:00:37,902 : $(levelname)s : EPOCH 1 - PROGRESS: at 16.37% examples, 660597 words/s, in_qsize 15, out_qsize 0\n",
      "2022-11-27 15:00:38,915 : $(levelname)s : EPOCH 1 - PROGRESS: at 23.41% examples, 631176 words/s, in_qsize 15, out_qsize 0\n",
      "2022-11-27 15:00:39,932 : $(levelname)s : EPOCH 1 - PROGRESS: at 30.46% examples, 615755 words/s, in_qsize 13, out_qsize 2\n",
      "2022-11-27 15:00:40,938 : $(levelname)s : EPOCH 1 - PROGRESS: at 36.29% examples, 588341 words/s, in_qsize 15, out_qsize 0\n",
      "2022-11-27 15:00:41,972 : $(levelname)s : EPOCH 1 - PROGRESS: at 44.62% examples, 601083 words/s, in_qsize 16, out_qsize 1\n",
      "2022-11-27 15:00:42,991 : $(levelname)s : EPOCH 1 - PROGRESS: at 53.16% examples, 613910 words/s, in_qsize 15, out_qsize 0\n",
      "2022-11-27 15:00:43,992 : $(levelname)s : EPOCH 1 - PROGRESS: at 60.74% examples, 615077 words/s, in_qsize 15, out_qsize 0\n",
      "2022-11-27 15:00:44,994 : $(levelname)s : EPOCH 1 - PROGRESS: at 68.64% examples, 618846 words/s, in_qsize 15, out_qsize 0\n",
      "2022-11-27 15:00:46,000 : $(levelname)s : EPOCH 1 - PROGRESS: at 76.33% examples, 619781 words/s, in_qsize 15, out_qsize 0\n",
      "2022-11-27 15:00:47,024 : $(levelname)s : EPOCH 1 - PROGRESS: at 84.59% examples, 623576 words/s, in_qsize 15, out_qsize 0\n",
      "2022-11-27 15:00:48,032 : $(levelname)s : EPOCH 1 - PROGRESS: at 93.81% examples, 634088 words/s, in_qsize 15, out_qsize 0\n",
      "2022-11-27 15:00:48,717 : $(levelname)s : EPOCH 1: training on 9227204 raw words (8222638 effective words) took 12.9s, 639866 effective words/s\n",
      "2022-11-27 15:00:49,833 : $(levelname)s : EPOCH 2 - PROGRESS: at 6.95% examples, 563633 words/s, in_qsize 15, out_qsize 0\n",
      "2022-11-27 15:00:50,874 : $(levelname)s : EPOCH 2 - PROGRESS: at 14.43% examples, 577202 words/s, in_qsize 16, out_qsize 1\n",
      "2022-11-27 15:00:51,875 : $(levelname)s : EPOCH 2 - PROGRESS: at 22.98% examples, 618439 words/s, in_qsize 15, out_qsize 0\n",
      "2022-11-27 15:00:52,889 : $(levelname)s : EPOCH 2 - PROGRESS: at 32.41% examples, 654759 words/s, in_qsize 15, out_qsize 0\n",
      "2022-11-27 15:00:53,892 : $(levelname)s : EPOCH 2 - PROGRESS: at 42.13% examples, 683296 words/s, in_qsize 14, out_qsize 1\n",
      "2022-11-27 15:00:54,931 : $(levelname)s : EPOCH 2 - PROGRESS: at 51.64% examples, 695453 words/s, in_qsize 15, out_qsize 0\n",
      "2022-11-27 15:00:55,941 : $(levelname)s : EPOCH 2 - PROGRESS: at 60.85% examples, 703136 words/s, in_qsize 12, out_qsize 3\n",
      "2022-11-27 15:00:56,951 : $(levelname)s : EPOCH 2 - PROGRESS: at 70.37% examples, 712220 words/s, in_qsize 15, out_qsize 0\n",
      "2022-11-27 15:00:57,953 : $(levelname)s : EPOCH 2 - PROGRESS: at 79.82% examples, 718870 words/s, in_qsize 13, out_qsize 2\n",
      "2022-11-27 15:00:58,969 : $(levelname)s : EPOCH 2 - PROGRESS: at 89.45% examples, 725047 words/s, in_qsize 15, out_qsize 0\n",
      "2022-11-27 15:00:59,981 : $(levelname)s : EPOCH 2 - PROGRESS: at 98.46% examples, 725500 words/s, in_qsize 14, out_qsize 1\n",
      "2022-11-27 15:01:00,107 : $(levelname)s : EPOCH 2: training on 9227204 raw words (8221442 effective words) took 11.3s, 728498 effective words/s\n",
      "2022-11-27 15:01:01,144 : $(levelname)s : EPOCH 3 - PROGRESS: at 9.23% examples, 749278 words/s, in_qsize 11, out_qsize 0\n",
      "2022-11-27 15:01:02,146 : $(levelname)s : EPOCH 3 - PROGRESS: at 18.43% examples, 752475 words/s, in_qsize 13, out_qsize 2\n",
      "2022-11-27 15:01:03,152 : $(levelname)s : EPOCH 3 - PROGRESS: at 28.40% examples, 773091 words/s, in_qsize 15, out_qsize 0\n",
      "2022-11-27 15:01:04,159 : $(levelname)s : EPOCH 3 - PROGRESS: at 38.14% examples, 779016 words/s, in_qsize 15, out_qsize 0\n",
      "2022-11-27 15:01:05,173 : $(levelname)s : EPOCH 3 - PROGRESS: at 46.67% examples, 761848 words/s, in_qsize 15, out_qsize 0\n",
      "2022-11-27 15:01:06,174 : $(levelname)s : EPOCH 3 - PROGRESS: at 55.75% examples, 759532 words/s, in_qsize 15, out_qsize 0\n",
      "2022-11-27 15:01:07,174 : $(levelname)s : EPOCH 3 - PROGRESS: at 64.84% examples, 757795 words/s, in_qsize 13, out_qsize 2\n",
      "2022-11-27 15:01:08,178 : $(levelname)s : EPOCH 3 - PROGRESS: at 73.73% examples, 754034 words/s, in_qsize 14, out_qsize 1\n",
      "2022-11-27 15:01:09,187 : $(levelname)s : EPOCH 3 - PROGRESS: at 82.64% examples, 750685 words/s, in_qsize 15, out_qsize 0\n",
      "2022-11-27 15:01:10,197 : $(levelname)s : EPOCH 3 - PROGRESS: at 91.09% examples, 744354 words/s, in_qsize 15, out_qsize 0\n",
      "2022-11-27 15:01:11,153 : $(levelname)s : EPOCH 3: training on 9227204 raw words (8222691 effective words) took 11.0s, 746142 effective words/s\n",
      "2022-11-27 15:01:12,186 : $(levelname)s : EPOCH 4 - PROGRESS: at 9.45% examples, 769990 words/s, in_qsize 15, out_qsize 0\n",
      "2022-11-27 15:01:13,195 : $(levelname)s : EPOCH 4 - PROGRESS: at 19.08% examples, 777619 words/s, in_qsize 15, out_qsize 0\n",
      "2022-11-27 15:01:14,253 : $(levelname)s : EPOCH 4 - PROGRESS: at 29.05% examples, 776613 words/s, in_qsize 15, out_qsize 0\n",
      "2022-11-27 15:01:15,257 : $(levelname)s : EPOCH 4 - PROGRESS: at 39.00% examples, 786400 words/s, in_qsize 15, out_qsize 0\n",
      "2022-11-27 15:01:16,260 : $(levelname)s : EPOCH 4 - PROGRESS: at 48.62% examples, 787033 words/s, in_qsize 15, out_qsize 0\n",
      "2022-11-27 15:01:17,279 : $(levelname)s : EPOCH 4 - PROGRESS: at 58.36% examples, 787148 words/s, in_qsize 15, out_qsize 0\n",
      "2022-11-27 15:01:18,314 : $(levelname)s : EPOCH 4 - PROGRESS: at 68.10% examples, 785398 words/s, in_qsize 14, out_qsize 1\n",
      "2022-11-27 15:01:19,371 : $(levelname)s : EPOCH 4 - PROGRESS: at 77.53% examples, 778500 words/s, in_qsize 15, out_qsize 0\n",
      "2022-11-27 15:01:20,439 : $(levelname)s : EPOCH 4 - PROGRESS: at 86.96% examples, 772443 words/s, in_qsize 16, out_qsize 1\n",
      "2022-11-27 15:01:21,469 : $(levelname)s : EPOCH 4 - PROGRESS: at 96.42% examples, 770398 words/s, in_qsize 15, out_qsize 0\n",
      "2022-11-27 15:01:21,829 : $(levelname)s : EPOCH 4: training on 9227204 raw words (8222055 effective words) took 10.6s, 772028 effective words/s\n",
      "2022-11-27 15:01:22,865 : $(levelname)s : EPOCH 5 - PROGRESS: at 8.80% examples, 712461 words/s, in_qsize 15, out_qsize 0\n",
      "2022-11-27 15:01:23,869 : $(levelname)s : EPOCH 5 - PROGRESS: at 18.00% examples, 733228 words/s, in_qsize 15, out_qsize 0\n",
      "2022-11-27 15:01:24,888 : $(levelname)s : EPOCH 5 - PROGRESS: at 27.53% examples, 745615 words/s, in_qsize 15, out_qsize 0\n",
      "2022-11-27 15:01:25,944 : $(levelname)s : EPOCH 5 - PROGRESS: at 37.37% examples, 751122 words/s, in_qsize 16, out_qsize 0\n",
      "2022-11-27 15:01:26,948 : $(levelname)s : EPOCH 5 - PROGRESS: at 46.99% examples, 758762 words/s, in_qsize 12, out_qsize 3\n",
      "2022-11-27 15:01:27,951 : $(levelname)s : EPOCH 5 - PROGRESS: at 56.95% examples, 768435 words/s, in_qsize 15, out_qsize 0\n",
      "2022-11-27 15:01:28,974 : $(levelname)s : EPOCH 5 - PROGRESS: at 66.47% examples, 768148 words/s, in_qsize 13, out_qsize 2\n",
      "2022-11-27 15:01:29,979 : $(levelname)s : EPOCH 5 - PROGRESS: at 76.66% examples, 776170 words/s, in_qsize 15, out_qsize 0\n",
      "2022-11-27 15:01:30,989 : $(levelname)s : EPOCH 5 - PROGRESS: at 85.34% examples, 768362 words/s, in_qsize 15, out_qsize 0\n",
      "2022-11-27 15:01:31,992 : $(levelname)s : EPOCH 5 - PROGRESS: at 95.12% examples, 771365 words/s, in_qsize 15, out_qsize 0\n",
      "2022-11-27 15:01:32,452 : $(levelname)s : EPOCH 5: training on 9227204 raw words (8223184 effective words) took 10.6s, 775885 effective words/s\n",
      "2022-11-27 15:01:33,483 : $(levelname)s : EPOCH 6 - PROGRESS: at 9.12% examples, 742114 words/s, in_qsize 16, out_qsize 0\n",
      "2022-11-27 15:01:34,489 : $(levelname)s : EPOCH 6 - PROGRESS: at 18.43% examples, 751498 words/s, in_qsize 15, out_qsize 0\n",
      "2022-11-27 15:01:35,498 : $(levelname)s : EPOCH 6 - PROGRESS: at 28.18% examples, 766044 words/s, in_qsize 15, out_qsize 0\n",
      "2022-11-27 15:01:36,504 : $(levelname)s : EPOCH 6 - PROGRESS: at 38.03% examples, 775918 words/s, in_qsize 15, out_qsize 0\n",
      "2022-11-27 15:01:37,510 : $(levelname)s : EPOCH 6 - PROGRESS: at 47.54% examples, 776467 words/s, in_qsize 15, out_qsize 0\n",
      "2022-11-27 15:01:38,522 : $(levelname)s : EPOCH 6 - PROGRESS: at 57.06% examples, 776137 words/s, in_qsize 15, out_qsize 0\n",
      "2022-11-27 15:01:39,534 : $(levelname)s : EPOCH 6 - PROGRESS: at 67.02% examples, 780956 words/s, in_qsize 13, out_qsize 2\n",
      "2022-11-27 15:01:40,579 : $(levelname)s : EPOCH 6 - PROGRESS: at 76.98% examples, 781318 words/s, in_qsize 15, out_qsize 0\n",
      "2022-11-27 15:01:41,585 : $(levelname)s : EPOCH 6 - PROGRESS: at 85.99% examples, 776252 words/s, in_qsize 15, out_qsize 0\n",
      "2022-11-27 15:01:42,588 : $(levelname)s : EPOCH 6 - PROGRESS: at 94.14% examples, 765265 words/s, in_qsize 15, out_qsize 0\n",
      "2022-11-27 15:01:43,220 : $(levelname)s : EPOCH 6: training on 9227204 raw words (8221680 effective words) took 10.7s, 765093 effective words/s\n",
      "2022-11-27 15:01:44,284 : $(levelname)s : EPOCH 7 - PROGRESS: at 8.69% examples, 708429 words/s, in_qsize 15, out_qsize 0\n",
      "2022-11-27 15:01:45,287 : $(levelname)s : EPOCH 7 - PROGRESS: at 16.81% examples, 687339 words/s, in_qsize 15, out_qsize 0\n",
      "2022-11-27 15:01:46,290 : $(levelname)s : EPOCH 7 - PROGRESS: at 25.59% examples, 697958 words/s, in_qsize 15, out_qsize 0\n",
      "2022-11-27 15:01:47,319 : $(levelname)s : EPOCH 7 - PROGRESS: at 34.46% examples, 700947 words/s, in_qsize 13, out_qsize 2\n",
      "2022-11-27 15:01:48,323 : $(levelname)s : EPOCH 7 - PROGRESS: at 42.78% examples, 697438 words/s, in_qsize 15, out_qsize 1\n",
      "2022-11-27 15:01:49,327 : $(levelname)s : EPOCH 7 - PROGRESS: at 51.32% examples, 698028 words/s, in_qsize 15, out_qsize 0\n",
      "2022-11-27 15:01:50,338 : $(levelname)s : EPOCH 7 - PROGRESS: at 59.76% examples, 696574 words/s, in_qsize 13, out_qsize 3\n",
      "2022-11-27 15:01:51,348 : $(levelname)s : EPOCH 7 - PROGRESS: at 68.96% examples, 703225 words/s, in_qsize 15, out_qsize 0\n",
      "2022-11-27 15:01:52,392 : $(levelname)s : EPOCH 7 - PROGRESS: at 77.85% examples, 702837 words/s, in_qsize 16, out_qsize 0\n",
      "2022-11-27 15:01:53,401 : $(levelname)s : EPOCH 7 - PROGRESS: at 86.53% examples, 703080 words/s, in_qsize 15, out_qsize 0\n",
      "2022-11-27 15:01:54,436 : $(levelname)s : EPOCH 7 - PROGRESS: at 95.23% examples, 701737 words/s, in_qsize 15, out_qsize 0\n",
      "2022-11-27 15:01:54,969 : $(levelname)s : EPOCH 7: training on 9227204 raw words (8223110 effective words) took 11.7s, 703342 effective words/s\n",
      "2022-11-27 15:01:56,000 : $(levelname)s : EPOCH 8 - PROGRESS: at 8.15% examples, 667074 words/s, in_qsize 15, out_qsize 0\n",
      "2022-11-27 15:01:57,077 : $(levelname)s : EPOCH 8 - PROGRESS: at 16.48% examples, 651675 words/s, in_qsize 16, out_qsize 0\n",
      "2022-11-27 15:01:58,080 : $(levelname)s : EPOCH 8 - PROGRESS: at 25.04% examples, 668037 words/s, in_qsize 14, out_qsize 0\n",
      "2022-11-27 15:01:59,093 : $(levelname)s : EPOCH 8 - PROGRESS: at 33.81% examples, 678797 words/s, in_qsize 15, out_qsize 0\n",
      "2022-11-27 15:02:00,110 : $(levelname)s : EPOCH 8 - PROGRESS: at 42.34% examples, 681565 words/s, in_qsize 15, out_qsize 5\n",
      "2022-11-27 15:02:01,113 : $(levelname)s : EPOCH 8 - PROGRESS: at 52.51% examples, 706833 words/s, in_qsize 14, out_qsize 1\n",
      "2022-11-27 15:02:02,137 : $(levelname)s : EPOCH 8 - PROGRESS: at 61.93% examples, 714012 words/s, in_qsize 14, out_qsize 1\n",
      "2022-11-27 15:02:03,152 : $(levelname)s : EPOCH 8 - PROGRESS: at 71.56% examples, 722371 words/s, in_qsize 14, out_qsize 1\n",
      "2022-11-27 15:02:04,169 : $(levelname)s : EPOCH 8 - PROGRESS: at 81.56% examples, 731579 words/s, in_qsize 15, out_qsize 0\n",
      "2022-11-27 15:02:05,169 : $(levelname)s : EPOCH 8 - PROGRESS: at 90.76% examples, 734009 words/s, in_qsize 16, out_qsize 1\n",
      "2022-11-27 15:02:06,167 : $(levelname)s : EPOCH 8: training on 9227204 raw words (8223301 effective words) took 11.2s, 736285 effective words/s\n",
      "2022-11-27 15:02:07,191 : $(levelname)s : EPOCH 9 - PROGRESS: at 9.23% examples, 750816 words/s, in_qsize 15, out_qsize 0\n",
      "2022-11-27 15:02:08,207 : $(levelname)s : EPOCH 9 - PROGRESS: at 18.54% examples, 752138 words/s, in_qsize 16, out_qsize 1\n",
      "2022-11-27 15:02:09,262 : $(levelname)s : EPOCH 9 - PROGRESS: at 27.85% examples, 743377 words/s, in_qsize 15, out_qsize 0\n",
      "2022-11-27 15:02:10,290 : $(levelname)s : EPOCH 9 - PROGRESS: at 37.37% examples, 748035 words/s, in_qsize 15, out_qsize 0\n",
      "2022-11-27 15:02:11,299 : $(levelname)s : EPOCH 9 - PROGRESS: at 46.78% examples, 752035 words/s, in_qsize 14, out_qsize 1\n",
      "2022-11-27 15:02:12,310 : $(levelname)s : EPOCH 9 - PROGRESS: at 56.18% examples, 754430 words/s, in_qsize 16, out_qsize 0\n",
      "2022-11-27 15:02:13,312 : $(levelname)s : EPOCH 9 - PROGRESS: at 65.93% examples, 760853 words/s, in_qsize 16, out_qsize 0\n",
      "2022-11-27 15:02:14,312 : $(levelname)s : EPOCH 9 - PROGRESS: at 75.45% examples, 763578 words/s, in_qsize 15, out_qsize 0\n",
      "2022-11-27 15:02:15,319 : $(levelname)s : EPOCH 9 - PROGRESS: at 85.23% examples, 767203 words/s, in_qsize 15, out_qsize 0\n",
      "2022-11-27 15:02:16,328 : $(levelname)s : EPOCH 9 - PROGRESS: at 94.91% examples, 769023 words/s, in_qsize 16, out_qsize 0\n",
      "2022-11-27 15:02:16,808 : $(levelname)s : EPOCH 9: training on 9227204 raw words (8222269 effective words) took 10.6s, 773809 effective words/s\n",
      "2022-11-27 15:02:17,852 : $(levelname)s : EPOCH 10 - PROGRESS: at 9.12% examples, 736542 words/s, in_qsize 15, out_qsize 0\n",
      "2022-11-27 15:02:18,864 : $(levelname)s : EPOCH 10 - PROGRESS: at 18.32% examples, 741927 words/s, in_qsize 15, out_qsize 0\n",
      "2022-11-27 15:02:19,869 : $(levelname)s : EPOCH 10 - PROGRESS: at 28.39% examples, 769464 words/s, in_qsize 14, out_qsize 1\n",
      "2022-11-27 15:02:20,879 : $(levelname)s : EPOCH 10 - PROGRESS: at 37.48% examples, 762271 words/s, in_qsize 15, out_qsize 0\n",
      "2022-11-27 15:02:21,917 : $(levelname)s : EPOCH 10 - PROGRESS: at 46.79% examples, 757277 words/s, in_qsize 13, out_qsize 2\n",
      "2022-11-27 15:02:22,918 : $(levelname)s : EPOCH 10 - PROGRESS: at 56.51% examples, 764534 words/s, in_qsize 15, out_qsize 0\n",
      "2022-11-27 15:02:23,920 : $(levelname)s : EPOCH 10 - PROGRESS: at 64.62% examples, 750684 words/s, in_qsize 15, out_qsize 0\n",
      "2022-11-27 15:02:24,933 : $(levelname)s : EPOCH 10 - PROGRESS: at 73.94% examples, 751411 words/s, in_qsize 15, out_qsize 0\n",
      "2022-11-27 15:02:25,966 : $(levelname)s : EPOCH 10 - PROGRESS: at 83.72% examples, 754221 words/s, in_qsize 14, out_qsize 1\n",
      "2022-11-27 15:02:26,970 : $(levelname)s : EPOCH 10 - PROGRESS: at 93.92% examples, 762062 words/s, in_qsize 15, out_qsize 0\n",
      "2022-11-27 15:02:27,576 : $(levelname)s : EPOCH 10: training on 9227204 raw words (8222896 effective words) took 10.7s, 765600 effective words/s\n",
      "2022-11-27 15:02:28,606 : $(levelname)s : EPOCH 11 - PROGRESS: at 8.58% examples, 699392 words/s, in_qsize 15, out_qsize 0\n",
      "2022-11-27 15:02:29,609 : $(levelname)s : EPOCH 11 - PROGRESS: at 17.78% examples, 726845 words/s, in_qsize 14, out_qsize 1\n",
      "2022-11-27 15:02:30,637 : $(levelname)s : EPOCH 11 - PROGRESS: at 27.42% examples, 741983 words/s, in_qsize 16, out_qsize 0\n",
      "2022-11-27 15:02:31,648 : $(levelname)s : EPOCH 11 - PROGRESS: at 36.83% examples, 748006 words/s, in_qsize 15, out_qsize 0\n",
      "2022-11-27 15:02:32,699 : $(levelname)s : EPOCH 11 - PROGRESS: at 47.00% examples, 758064 words/s, in_qsize 15, out_qsize 0\n",
      "2022-11-27 15:02:33,727 : $(levelname)s : EPOCH 11 - PROGRESS: at 57.06% examples, 766170 words/s, in_qsize 14, out_qsize 1\n",
      "2022-11-27 15:02:34,748 : $(levelname)s : EPOCH 11 - PROGRESS: at 66.36% examples, 763858 words/s, in_qsize 13, out_qsize 2\n",
      "2022-11-27 15:02:35,754 : $(levelname)s : EPOCH 11 - PROGRESS: at 75.89% examples, 765741 words/s, in_qsize 15, out_qsize 0\n",
      "2022-11-27 15:02:36,761 : $(levelname)s : EPOCH 11 - PROGRESS: at 84.91% examples, 762232 words/s, in_qsize 15, out_qsize 0\n",
      "2022-11-27 15:02:37,770 : $(levelname)s : EPOCH 11 - PROGRESS: at 94.69% examples, 765439 words/s, in_qsize 15, out_qsize 0\n",
      "2022-11-27 15:02:38,283 : $(levelname)s : EPOCH 11: training on 9227204 raw words (8222185 effective words) took 10.7s, 769577 effective words/s\n",
      "2022-11-27 15:02:39,307 : $(levelname)s : EPOCH 12 - PROGRESS: at 7.93% examples, 648143 words/s, in_qsize 15, out_qsize 0\n",
      "2022-11-27 15:02:40,314 : $(levelname)s : EPOCH 12 - PROGRESS: at 16.38% examples, 669122 words/s, in_qsize 16, out_qsize 0\n",
      "2022-11-27 15:02:41,350 : $(levelname)s : EPOCH 12 - PROGRESS: at 25.70% examples, 692960 words/s, in_qsize 14, out_qsize 1\n",
      "2022-11-27 15:02:42,364 : $(levelname)s : EPOCH 12 - PROGRESS: at 34.35% examples, 695427 words/s, in_qsize 16, out_qsize 0\n",
      "2022-11-27 15:02:43,385 : $(levelname)s : EPOCH 12 - PROGRESS: at 42.78% examples, 692513 words/s, in_qsize 15, out_qsize 0\n",
      "2022-11-27 15:02:44,388 : $(levelname)s : EPOCH 12 - PROGRESS: at 51.43% examples, 695439 words/s, in_qsize 15, out_qsize 0\n",
      "2022-11-27 15:02:45,389 : $(levelname)s : EPOCH 12 - PROGRESS: at 60.41% examples, 701661 words/s, in_qsize 15, out_qsize 0\n",
      "2022-11-27 15:02:46,406 : $(levelname)s : EPOCH 12 - PROGRESS: at 69.07% examples, 701577 words/s, in_qsize 15, out_qsize 0\n",
      "2022-11-27 15:02:47,413 : $(levelname)s : EPOCH 12 - PROGRESS: at 77.53% examples, 700174 words/s, in_qsize 15, out_qsize 0\n",
      "2022-11-27 15:02:48,425 : $(levelname)s : EPOCH 12 - PROGRESS: at 86.21% examples, 700582 words/s, in_qsize 15, out_qsize 0\n",
      "2022-11-27 15:02:49,426 : $(levelname)s : EPOCH 12 - PROGRESS: at 94.80% examples, 700741 words/s, in_qsize 15, out_qsize 0\n",
      "2022-11-27 15:02:49,990 : $(levelname)s : EPOCH 12: training on 9227204 raw words (8222498 effective words) took 11.7s, 703610 effective words/s\n",
      "2022-11-27 15:02:51,014 : $(levelname)s : EPOCH 13 - PROGRESS: at 9.01% examples, 732698 words/s, in_qsize 15, out_qsize 0\n",
      "2022-11-27 15:02:52,040 : $(levelname)s : EPOCH 13 - PROGRESS: at 17.89% examples, 721832 words/s, in_qsize 15, out_qsize 0\n",
      "2022-11-27 15:02:53,043 : $(levelname)s : EPOCH 13 - PROGRESS: at 27.32% examples, 738644 words/s, in_qsize 15, out_qsize 0\n",
      "2022-11-27 15:02:54,048 : $(levelname)s : EPOCH 13 - PROGRESS: at 36.51% examples, 742463 words/s, in_qsize 15, out_qsize 0\n",
      "2022-11-27 15:02:55,057 : $(levelname)s : EPOCH 13 - PROGRESS: at 46.67% examples, 759897 words/s, in_qsize 13, out_qsize 2\n",
      "2022-11-27 15:02:56,066 : $(levelname)s : EPOCH 13 - PROGRESS: at 56.08% examples, 761396 words/s, in_qsize 15, out_qsize 0\n",
      "2022-11-27 15:02:57,072 : $(levelname)s : EPOCH 13 - PROGRESS: at 65.06% examples, 757594 words/s, in_qsize 15, out_qsize 0\n",
      "2022-11-27 15:02:58,107 : $(levelname)s : EPOCH 13 - PROGRESS: at 74.16% examples, 753146 words/s, in_qsize 15, out_qsize 0\n",
      "2022-11-27 15:02:59,111 : $(levelname)s : EPOCH 13 - PROGRESS: at 84.37% examples, 762026 words/s, in_qsize 15, out_qsize 0\n",
      "2022-11-27 15:03:00,118 : $(levelname)s : EPOCH 13 - PROGRESS: at 94.03% examples, 764461 words/s, in_qsize 15, out_qsize 0\n",
      "2022-11-27 15:03:00,700 : $(levelname)s : EPOCH 13: training on 9227204 raw words (8222090 effective words) took 10.7s, 768766 effective words/s\n",
      "2022-11-27 15:03:01,805 : $(levelname)s : EPOCH 14 - PROGRESS: at 9.01% examples, 737442 words/s, in_qsize 14, out_qsize 1\n",
      "2022-11-27 15:03:02,818 : $(levelname)s : EPOCH 14 - PROGRESS: at 18.76% examples, 764267 words/s, in_qsize 16, out_qsize 3\n",
      "2022-11-27 15:03:03,834 : $(levelname)s : EPOCH 14 - PROGRESS: at 27.97% examples, 758088 words/s, in_qsize 16, out_qsize 2\n",
      "2022-11-27 15:03:04,845 : $(levelname)s : EPOCH 14 - PROGRESS: at 37.70% examples, 766713 words/s, in_qsize 15, out_qsize 0\n",
      "2022-11-27 15:03:05,847 : $(levelname)s : EPOCH 14 - PROGRESS: at 47.00% examples, 766244 words/s, in_qsize 13, out_qsize 2\n",
      "2022-11-27 15:03:06,878 : $(levelname)s : EPOCH 14 - PROGRESS: at 56.51% examples, 765262 words/s, in_qsize 14, out_qsize 1\n",
      "2022-11-27 15:03:07,882 : $(levelname)s : EPOCH 14 - PROGRESS: at 66.37% examples, 771363 words/s, in_qsize 15, out_qsize 0\n",
      "2022-11-27 15:03:08,882 : $(levelname)s : EPOCH 14 - PROGRESS: at 75.78% examples, 771719 words/s, in_qsize 16, out_qsize 0\n",
      "2022-11-27 15:03:09,933 : $(levelname)s : EPOCH 14 - PROGRESS: at 85.88% examples, 773612 words/s, in_qsize 16, out_qsize 1\n",
      "2022-11-27 15:03:10,938 : $(levelname)s : EPOCH 14 - PROGRESS: at 95.99% examples, 778577 words/s, in_qsize 15, out_qsize 0\n",
      "2022-11-27 15:03:11,357 : $(levelname)s : EPOCH 14: training on 9227204 raw words (8222134 effective words) took 10.6s, 778967 effective words/s\n",
      "2022-11-27 15:03:12,393 : $(levelname)s : EPOCH 15 - PROGRESS: at 9.34% examples, 765882 words/s, in_qsize 15, out_qsize 0\n",
      "2022-11-27 15:03:13,398 : $(levelname)s : EPOCH 15 - PROGRESS: at 18.76% examples, 768137 words/s, in_qsize 15, out_qsize 0\n",
      "2022-11-27 15:03:14,473 : $(levelname)s : EPOCH 15 - PROGRESS: at 28.18% examples, 751777 words/s, in_qsize 16, out_qsize 6\n",
      "2022-11-27 15:03:15,490 : $(levelname)s : EPOCH 15 - PROGRESS: at 38.14% examples, 765091 words/s, in_qsize 15, out_qsize 0\n",
      "2022-11-27 15:03:16,495 : $(levelname)s : EPOCH 15 - PROGRESS: at 47.75% examples, 769814 words/s, in_qsize 15, out_qsize 0\n",
      "2022-11-27 15:03:17,517 : $(levelname)s : EPOCH 15 - PROGRESS: at 57.06% examples, 766504 words/s, in_qsize 15, out_qsize 0\n",
      "2022-11-27 15:03:18,522 : $(levelname)s : EPOCH 15 - PROGRESS: at 66.58% examples, 768484 words/s, in_qsize 15, out_qsize 0\n",
      "2022-11-27 15:03:19,524 : $(levelname)s : EPOCH 15 - PROGRESS: at 76.33% examples, 772392 words/s, in_qsize 14, out_qsize 1\n",
      "2022-11-27 15:03:20,549 : $(levelname)s : EPOCH 15 - PROGRESS: at 85.56% examples, 768617 words/s, in_qsize 11, out_qsize 4\n",
      "2022-11-27 15:03:21,552 : $(levelname)s : EPOCH 15 - PROGRESS: at 94.58% examples, 765412 words/s, in_qsize 15, out_qsize 0\n",
      "2022-11-27 15:03:22,098 : $(levelname)s : EPOCH 15: training on 9227204 raw words (8223063 effective words) took 10.7s, 768099 effective words/s\n",
      "2022-11-27 15:03:23,123 : $(levelname)s : EPOCH 16 - PROGRESS: at 8.80% examples, 716406 words/s, in_qsize 15, out_qsize 0\n",
      "2022-11-27 15:03:24,126 : $(levelname)s : EPOCH 16 - PROGRESS: at 18.43% examples, 753057 words/s, in_qsize 15, out_qsize 0\n",
      "2022-11-27 15:03:25,127 : $(levelname)s : EPOCH 16 - PROGRESS: at 27.53% examples, 751294 words/s, in_qsize 15, out_qsize 0\n",
      "2022-11-27 15:03:26,131 : $(levelname)s : EPOCH 16 - PROGRESS: at 35.86% examples, 734488 words/s, in_qsize 15, out_qsize 0\n",
      "2022-11-27 15:03:27,200 : $(levelname)s : EPOCH 16 - PROGRESS: at 44.40% examples, 718360 words/s, in_qsize 14, out_qsize 1\n",
      "2022-11-27 15:03:28,206 : $(levelname)s : EPOCH 16 - PROGRESS: at 53.70% examples, 725434 words/s, in_qsize 15, out_qsize 0\n",
      "2022-11-27 15:03:29,224 : $(levelname)s : EPOCH 16 - PROGRESS: at 63.33% examples, 733237 words/s, in_qsize 14, out_qsize 1\n",
      "2022-11-27 15:03:30,289 : $(levelname)s : EPOCH 16 - PROGRESS: at 73.08% examples, 735738 words/s, in_qsize 10, out_qsize 5\n",
      "2022-11-27 15:03:31,295 : $(levelname)s : EPOCH 16 - PROGRESS: at 83.17% examples, 745308 words/s, in_qsize 15, out_qsize 0\n",
      "2022-11-27 15:03:32,297 : $(levelname)s : EPOCH 16 - PROGRESS: at 92.72% examples, 748886 words/s, in_qsize 16, out_qsize 1\n",
      "2022-11-27 15:03:33,024 : $(levelname)s : EPOCH 16: training on 9227204 raw words (8222834 effective words) took 10.9s, 753804 effective words/s\n",
      "2022-11-27 15:03:34,074 : $(levelname)s : EPOCH 17 - PROGRESS: at 9.45% examples, 757362 words/s, in_qsize 15, out_qsize 0\n",
      "2022-11-27 15:03:35,104 : $(levelname)s : EPOCH 17 - PROGRESS: at 18.86% examples, 754805 words/s, in_qsize 15, out_qsize 0\n",
      "2022-11-27 15:03:36,105 : $(levelname)s : EPOCH 17 - PROGRESS: at 29.16% examples, 784775 words/s, in_qsize 15, out_qsize 0\n",
      "2022-11-27 15:03:37,111 : $(levelname)s : EPOCH 17 - PROGRESS: at 38.46% examples, 778917 words/s, in_qsize 15, out_qsize 0\n",
      "2022-11-27 15:03:38,157 : $(levelname)s : EPOCH 17 - PROGRESS: at 48.30% examples, 778053 words/s, in_qsize 15, out_qsize 0\n",
      "2022-11-27 15:03:39,161 : $(levelname)s : EPOCH 17 - PROGRESS: at 58.14% examples, 782852 words/s, in_qsize 14, out_qsize 1\n",
      "2022-11-27 15:03:40,164 : $(levelname)s : EPOCH 17 - PROGRESS: at 67.99% examples, 786396 words/s, in_qsize 15, out_qsize 0\n",
      "2022-11-27 15:03:41,169 : $(levelname)s : EPOCH 17 - PROGRESS: at 77.74% examples, 787809 words/s, in_qsize 14, out_qsize 2\n",
      "2022-11-27 15:03:42,190 : $(levelname)s : EPOCH 17 - PROGRESS: at 87.83% examples, 790415 words/s, in_qsize 16, out_qsize 0\n",
      "2022-11-27 15:03:43,192 : $(levelname)s : EPOCH 17 - PROGRESS: at 97.61% examples, 791331 words/s, in_qsize 15, out_qsize 0\n",
      "2022-11-27 15:03:43,391 : $(levelname)s : EPOCH 17: training on 9227204 raw words (8221340 effective words) took 10.3s, 795152 effective words/s\n",
      "2022-11-27 15:03:44,417 : $(levelname)s : EPOCH 18 - PROGRESS: at 9.23% examples, 751714 words/s, in_qsize 15, out_qsize 0\n",
      "2022-11-27 15:03:45,419 : $(levelname)s : EPOCH 18 - PROGRESS: at 19.08% examples, 780007 words/s, in_qsize 15, out_qsize 0\n",
      "2022-11-27 15:03:46,474 : $(levelname)s : EPOCH 18 - PROGRESS: at 27.96% examples, 750204 words/s, in_qsize 14, out_qsize 1\n",
      "2022-11-27 15:03:47,475 : $(levelname)s : EPOCH 18 - PROGRESS: at 36.72% examples, 742738 words/s, in_qsize 15, out_qsize 0\n",
      "2022-11-27 15:03:48,492 : $(levelname)s : EPOCH 18 - PROGRESS: at 44.83% examples, 725592 words/s, in_qsize 15, out_qsize 0\n",
      "2022-11-27 15:03:49,492 : $(levelname)s : EPOCH 18 - PROGRESS: at 55.21% examples, 746993 words/s, in_qsize 15, out_qsize 0\n",
      "2022-11-27 15:03:50,494 : $(levelname)s : EPOCH 18 - PROGRESS: at 64.95% examples, 754610 words/s, in_qsize 15, out_qsize 0\n",
      "2022-11-27 15:03:51,503 : $(levelname)s : EPOCH 18 - PROGRESS: at 75.13% examples, 763856 words/s, in_qsize 15, out_qsize 0\n",
      "2022-11-27 15:03:52,531 : $(levelname)s : EPOCH 18 - PROGRESS: at 85.34% examples, 769542 words/s, in_qsize 15, out_qsize 0\n",
      "2022-11-27 15:03:53,536 : $(levelname)s : EPOCH 18 - PROGRESS: at 95.77% examples, 777667 words/s, in_qsize 14, out_qsize 1\n",
      "2022-11-27 15:03:53,927 : $(levelname)s : EPOCH 18: training on 9227204 raw words (8222790 effective words) took 10.5s, 781850 effective words/s\n",
      "2022-11-27 15:03:54,973 : $(levelname)s : EPOCH 19 - PROGRESS: at 9.34% examples, 742433 words/s, in_qsize 16, out_qsize 1\n",
      "2022-11-27 15:03:56,009 : $(levelname)s : EPOCH 19 - PROGRESS: at 19.84% examples, 787983 words/s, in_qsize 13, out_qsize 2\n",
      "2022-11-27 15:03:57,017 : $(levelname)s : EPOCH 19 - PROGRESS: at 29.70% examples, 793683 words/s, in_qsize 15, out_qsize 0\n",
      "2022-11-27 15:03:58,027 : $(levelname)s : EPOCH 19 - PROGRESS: at 39.54% examples, 795785 words/s, in_qsize 15, out_qsize 0\n",
      "2022-11-27 15:03:59,037 : $(levelname)s : EPOCH 19 - PROGRESS: at 50.13% examples, 809278 words/s, in_qsize 15, out_qsize 0\n",
      "2022-11-27 15:04:00,040 : $(levelname)s : EPOCH 19 - PROGRESS: at 59.01% examples, 796166 words/s, in_qsize 15, out_qsize 0\n",
      "2022-11-27 15:04:01,068 : $(levelname)s : EPOCH 19 - PROGRESS: at 69.18% examples, 798755 words/s, in_qsize 15, out_qsize 0\n",
      "2022-11-27 15:04:02,097 : $(levelname)s : EPOCH 19 - PROGRESS: at 79.49% examples, 801751 words/s, in_qsize 15, out_qsize 0\n",
      "2022-11-27 15:04:03,099 : $(levelname)s : EPOCH 19 - PROGRESS: at 89.13% examples, 800566 words/s, in_qsize 15, out_qsize 0\n",
      "2022-11-27 15:04:04,106 : $(levelname)s : EPOCH 19 - PROGRESS: at 99.45% examples, 804487 words/s, in_qsize 5, out_qsize 1\n",
      "2022-11-27 15:04:04,136 : $(levelname)s : EPOCH 19: training on 9227204 raw words (8222572 effective words) took 10.2s, 806472 effective words/s\n",
      "2022-11-27 15:04:05,174 : $(levelname)s : EPOCH 20 - PROGRESS: at 9.55% examples, 775816 words/s, in_qsize 15, out_qsize 0\n",
      "2022-11-27 15:04:06,177 : $(levelname)s : EPOCH 20 - PROGRESS: at 19.51% examples, 796121 words/s, in_qsize 15, out_qsize 0\n",
      "2022-11-27 15:04:07,191 : $(levelname)s : EPOCH 20 - PROGRESS: at 29.05% examples, 788483 words/s, in_qsize 15, out_qsize 0\n",
      "2022-11-27 15:04:08,201 : $(levelname)s : EPOCH 20 - PROGRESS: at 38.57% examples, 785379 words/s, in_qsize 15, out_qsize 0\n",
      "2022-11-27 15:04:09,224 : $(levelname)s : EPOCH 20 - PROGRESS: at 48.94% examples, 795586 words/s, in_qsize 15, out_qsize 0\n",
      "2022-11-27 15:04:10,248 : $(levelname)s : EPOCH 20 - PROGRESS: at 58.69% examples, 793633 words/s, in_qsize 15, out_qsize 0\n",
      "2022-11-27 15:04:11,257 : $(levelname)s : EPOCH 20 - PROGRESS: at 67.56% examples, 783548 words/s, in_qsize 15, out_qsize 0\n",
      "2022-11-27 15:04:12,278 : $(levelname)s : EPOCH 20 - PROGRESS: at 76.55% examples, 776003 words/s, in_qsize 14, out_qsize 1\n",
      "2022-11-27 15:04:13,281 : $(levelname)s : EPOCH 20 - PROGRESS: at 86.53% examples, 780647 words/s, in_qsize 15, out_qsize 0\n",
      "2022-11-27 15:04:14,285 : $(levelname)s : EPOCH 20 - PROGRESS: at 96.42% examples, 783216 words/s, in_qsize 14, out_qsize 1\n",
      "2022-11-27 15:04:14,579 : $(levelname)s : EPOCH 20: training on 9227204 raw words (8222331 effective words) took 10.4s, 789436 effective words/s\n",
      "2022-11-27 15:04:15,603 : $(levelname)s : EPOCH 21 - PROGRESS: at 9.77% examples, 800361 words/s, in_qsize 15, out_qsize 0\n",
      "2022-11-27 15:04:16,604 : $(levelname)s : EPOCH 21 - PROGRESS: at 19.51% examples, 800312 words/s, in_qsize 14, out_qsize 1\n",
      "2022-11-27 15:04:17,612 : $(levelname)s : EPOCH 21 - PROGRESS: at 29.81% examples, 813653 words/s, in_qsize 15, out_qsize 0\n",
      "2022-11-27 15:04:18,614 : $(levelname)s : EPOCH 21 - PROGRESS: at 38.57% examples, 790244 words/s, in_qsize 15, out_qsize 0\n",
      "2022-11-27 15:04:19,631 : $(levelname)s : EPOCH 21 - PROGRESS: at 46.46% examples, 759824 words/s, in_qsize 15, out_qsize 0\n",
      "2022-11-27 15:04:20,672 : $(levelname)s : EPOCH 21 - PROGRESS: at 54.14% examples, 733738 words/s, in_qsize 15, out_qsize 0\n",
      "2022-11-27 15:04:21,681 : $(levelname)s : EPOCH 21 - PROGRESS: at 63.11% examples, 733687 words/s, in_qsize 13, out_qsize 2\n",
      "2022-11-27 15:04:22,686 : $(levelname)s : EPOCH 21 - PROGRESS: at 71.24% examples, 725089 words/s, in_qsize 14, out_qsize 1\n",
      "2022-11-27 15:04:23,717 : $(levelname)s : EPOCH 21 - PROGRESS: at 77.85% examples, 702646 words/s, in_qsize 15, out_qsize 0\n",
      "2022-11-27 15:04:24,725 : $(levelname)s : EPOCH 21 - PROGRESS: at 83.83% examples, 681179 words/s, in_qsize 15, out_qsize 0\n",
      "2022-11-27 15:04:25,725 : $(levelname)s : EPOCH 21 - PROGRESS: at 90.22% examples, 667128 words/s, in_qsize 13, out_qsize 2\n",
      "2022-11-27 15:04:26,741 : $(levelname)s : EPOCH 21 - PROGRESS: at 97.71% examples, 661892 words/s, in_qsize 15, out_qsize 0\n",
      "2022-11-27 15:04:27,146 : $(levelname)s : EPOCH 21: training on 9227204 raw words (8223768 effective words) took 12.5s, 655515 effective words/s\n",
      "2022-11-27 15:04:28,377 : $(levelname)s : EPOCH 22 - PROGRESS: at 6.19% examples, 500718 words/s, in_qsize 15, out_qsize 0\n",
      "2022-11-27 15:04:29,424 : $(levelname)s : EPOCH 22 - PROGRESS: at 12.28% examples, 488634 words/s, in_qsize 16, out_qsize 1\n",
      "2022-11-27 15:04:30,460 : $(levelname)s : EPOCH 22 - PROGRESS: at 16.48% examples, 437177 words/s, in_qsize 14, out_qsize 7\n",
      "2022-11-27 15:04:31,497 : $(levelname)s : EPOCH 22 - PROGRESS: at 22.22% examples, 441708 words/s, in_qsize 15, out_qsize 0\n",
      "2022-11-27 15:04:32,508 : $(levelname)s : EPOCH 22 - PROGRESS: at 28.83% examples, 460576 words/s, in_qsize 16, out_qsize 0\n",
      "2022-11-27 15:04:33,530 : $(levelname)s : EPOCH 22 - PROGRESS: at 34.46% examples, 459310 words/s, in_qsize 15, out_qsize 0\n",
      "2022-11-27 15:04:34,564 : $(levelname)s : EPOCH 22 - PROGRESS: at 39.22% examples, 447860 words/s, in_qsize 16, out_qsize 1\n",
      "2022-11-27 15:04:35,574 : $(levelname)s : EPOCH 22 - PROGRESS: at 48.19% examples, 482786 words/s, in_qsize 15, out_qsize 0\n",
      "2022-11-27 15:04:36,575 : $(levelname)s : EPOCH 22 - PROGRESS: at 55.53% examples, 496109 words/s, in_qsize 15, out_qsize 0\n",
      "2022-11-27 15:04:37,583 : $(levelname)s : EPOCH 22 - PROGRESS: at 64.40% examples, 518676 words/s, in_qsize 14, out_qsize 1\n",
      "2022-11-27 15:04:38,604 : $(levelname)s : EPOCH 22 - PROGRESS: at 71.78% examples, 525416 words/s, in_qsize 15, out_qsize 0\n",
      "2022-11-27 15:04:39,683 : $(levelname)s : EPOCH 22 - PROGRESS: at 81.01% examples, 540832 words/s, in_qsize 15, out_qsize 0\n",
      "2022-11-27 15:04:40,741 : $(levelname)s : EPOCH 22 - PROGRESS: at 88.16% examples, 542019 words/s, in_qsize 15, out_qsize 0\n",
      "2022-11-27 15:04:41,753 : $(levelname)s : EPOCH 22 - PROGRESS: at 97.50% examples, 557081 words/s, in_qsize 15, out_qsize 0\n",
      "2022-11-27 15:04:42,006 : $(levelname)s : EPOCH 22: training on 9227204 raw words (8222449 effective words) took 14.6s, 561519 effective words/s\n",
      "2022-11-27 15:04:43,047 : $(levelname)s : EPOCH 23 - PROGRESS: at 8.04% examples, 643818 words/s, in_qsize 14, out_qsize 1\n",
      "2022-11-27 15:04:44,061 : $(levelname)s : EPOCH 23 - PROGRESS: at 17.35% examples, 699607 words/s, in_qsize 15, out_qsize 0\n",
      "2022-11-27 15:04:45,061 : $(levelname)s : EPOCH 23 - PROGRESS: at 26.67% examples, 721389 words/s, in_qsize 15, out_qsize 0\n",
      "2022-11-27 15:04:46,069 : $(levelname)s : EPOCH 23 - PROGRESS: at 35.54% examples, 722036 words/s, in_qsize 15, out_qsize 0\n",
      "2022-11-27 15:04:47,080 : $(levelname)s : EPOCH 23 - PROGRESS: at 44.62% examples, 725833 words/s, in_qsize 14, out_qsize 1\n",
      "2022-11-27 15:04:48,103 : $(levelname)s : EPOCH 23 - PROGRESS: at 54.14% examples, 732670 words/s, in_qsize 15, out_qsize 0\n",
      "2022-11-27 15:04:49,116 : $(levelname)s : EPOCH 23 - PROGRESS: at 63.32% examples, 734855 words/s, in_qsize 15, out_qsize 0\n",
      "2022-11-27 15:04:50,128 : $(levelname)s : EPOCH 23 - PROGRESS: at 72.64% examples, 737556 words/s, in_qsize 15, out_qsize 0\n",
      "2022-11-27 15:04:51,154 : $(levelname)s : EPOCH 23 - PROGRESS: at 82.42% examples, 742425 words/s, in_qsize 15, out_qsize 0\n",
      "2022-11-27 15:04:52,177 : $(levelname)s : EPOCH 23 - PROGRESS: at 91.53% examples, 741302 words/s, in_qsize 13, out_qsize 2\n",
      "2022-11-27 15:04:53,047 : $(levelname)s : EPOCH 23: training on 9227204 raw words (8222395 effective words) took 11.0s, 745913 effective words/s\n",
      "2022-11-27 15:04:54,080 : $(levelname)s : EPOCH 24 - PROGRESS: at 8.04% examples, 653363 words/s, in_qsize 16, out_qsize 3\n",
      "2022-11-27 15:04:55,084 : $(levelname)s : EPOCH 24 - PROGRESS: at 17.24% examples, 703609 words/s, in_qsize 15, out_qsize 0\n",
      "2022-11-27 15:04:56,088 : $(levelname)s : EPOCH 24 - PROGRESS: at 25.80% examples, 702500 words/s, in_qsize 15, out_qsize 0\n",
      "2022-11-27 15:04:57,094 : $(levelname)s : EPOCH 24 - PROGRESS: at 35.10% examples, 717505 words/s, in_qsize 15, out_qsize 0\n",
      "2022-11-27 15:04:58,094 : $(levelname)s : EPOCH 24 - PROGRESS: at 43.86% examples, 718136 words/s, in_qsize 15, out_qsize 0\n",
      "2022-11-27 15:04:59,119 : $(levelname)s : EPOCH 24 - PROGRESS: at 53.38% examples, 726116 words/s, in_qsize 15, out_qsize 0\n",
      "2022-11-27 15:05:00,129 : $(levelname)s : EPOCH 24 - PROGRESS: at 62.79% examples, 732050 words/s, in_qsize 15, out_qsize 0\n",
      "2022-11-27 15:05:01,132 : $(levelname)s : EPOCH 24 - PROGRESS: at 72.21% examples, 737079 words/s, in_qsize 15, out_qsize 0\n",
      "2022-11-27 15:05:02,141 : $(levelname)s : EPOCH 24 - PROGRESS: at 81.77% examples, 741577 words/s, in_qsize 15, out_qsize 0\n",
      "2022-11-27 15:05:03,164 : $(levelname)s : EPOCH 24 - PROGRESS: at 91.20% examples, 743105 words/s, in_qsize 15, out_qsize 0\n",
      "2022-11-27 15:05:04,064 : $(levelname)s : EPOCH 24: training on 9227204 raw words (8222112 effective words) took 11.0s, 747951 effective words/s\n",
      "2022-11-27 15:05:05,104 : $(levelname)s : EPOCH 25 - PROGRESS: at 8.58% examples, 691925 words/s, in_qsize 15, out_qsize 0\n",
      "2022-11-27 15:05:06,125 : $(levelname)s : EPOCH 25 - PROGRESS: at 18.32% examples, 738140 words/s, in_qsize 15, out_qsize 0\n",
      "2022-11-27 15:05:07,129 : $(levelname)s : EPOCH 25 - PROGRESS: at 27.53% examples, 743387 words/s, in_qsize 15, out_qsize 0\n",
      "2022-11-27 15:05:08,143 : $(levelname)s : EPOCH 25 - PROGRESS: at 36.73% examples, 744355 words/s, in_qsize 16, out_qsize 0\n",
      "2022-11-27 15:05:09,160 : $(levelname)s : EPOCH 25 - PROGRESS: at 46.02% examples, 745998 words/s, in_qsize 15, out_qsize 0\n",
      "2022-11-27 15:05:10,191 : $(levelname)s : EPOCH 25 - PROGRESS: at 55.43% examples, 747246 words/s, in_qsize 15, out_qsize 0\n",
      "2022-11-27 15:05:11,215 : $(levelname)s : EPOCH 25 - PROGRESS: at 64.73% examples, 747334 words/s, in_qsize 15, out_qsize 0\n",
      "2022-11-27 15:05:12,222 : $(levelname)s : EPOCH 25 - PROGRESS: at 74.05% examples, 748930 words/s, in_qsize 13, out_qsize 2\n",
      "2022-11-27 15:05:13,242 : $(levelname)s : EPOCH 25 - PROGRESS: at 83.94% examples, 754170 words/s, in_qsize 15, out_qsize 0\n",
      "2022-11-27 15:05:14,250 : $(levelname)s : EPOCH 25 - PROGRESS: at 93.05% examples, 752824 words/s, in_qsize 15, out_qsize 0\n",
      "2022-11-27 15:05:14,938 : $(levelname)s : EPOCH 25: training on 9227204 raw words (8222727 effective words) took 10.9s, 757770 effective words/s\n",
      "2022-11-27 15:05:15,961 : $(levelname)s : EPOCH 26 - PROGRESS: at 8.80% examples, 721213 words/s, in_qsize 15, out_qsize 0\n",
      "2022-11-27 15:05:16,974 : $(levelname)s : EPOCH 26 - PROGRESS: at 18.54% examples, 756249 words/s, in_qsize 15, out_qsize 0\n",
      "2022-11-27 15:05:17,977 : $(levelname)s : EPOCH 26 - PROGRESS: at 27.20% examples, 741330 words/s, in_qsize 15, out_qsize 0\n",
      "2022-11-27 15:05:18,978 : $(levelname)s : EPOCH 26 - PROGRESS: at 36.72% examples, 751606 words/s, in_qsize 15, out_qsize 0\n",
      "2022-11-27 15:05:19,985 : $(levelname)s : EPOCH 26 - PROGRESS: at 46.13% examples, 755395 words/s, in_qsize 14, out_qsize 1\n",
      "2022-11-27 15:05:20,985 : $(levelname)s : EPOCH 26 - PROGRESS: at 54.67% examples, 746733 words/s, in_qsize 15, out_qsize 0\n",
      "2022-11-27 15:05:21,988 : $(levelname)s : EPOCH 26 - PROGRESS: at 63.97% examples, 749223 words/s, in_qsize 14, out_qsize 1\n",
      "2022-11-27 15:05:22,991 : $(levelname)s : EPOCH 26 - PROGRESS: at 73.41% examples, 752157 words/s, in_qsize 15, out_qsize 0\n",
      "2022-11-27 15:05:23,995 : $(levelname)s : EPOCH 26 - PROGRESS: at 82.64% examples, 752321 words/s, in_qsize 14, out_qsize 1\n",
      "2022-11-27 15:05:25,041 : $(levelname)s : EPOCH 26 - PROGRESS: at 92.39% examples, 753706 words/s, in_qsize 13, out_qsize 2\n",
      "2022-11-27 15:05:25,813 : $(levelname)s : EPOCH 26: training on 9227204 raw words (8222361 effective words) took 10.9s, 757698 effective words/s\n",
      "2022-11-27 15:05:26,843 : $(levelname)s : EPOCH 27 - PROGRESS: at 8.80% examples, 716510 words/s, in_qsize 15, out_qsize 0\n",
      "2022-11-27 15:05:27,856 : $(levelname)s : EPOCH 27 - PROGRESS: at 18.43% examples, 749817 words/s, in_qsize 15, out_qsize 0\n",
      "2022-11-27 15:05:28,857 : $(levelname)s : EPOCH 27 - PROGRESS: at 27.96% examples, 760822 words/s, in_qsize 15, out_qsize 0\n",
      "2022-11-27 15:05:29,866 : $(levelname)s : EPOCH 27 - PROGRESS: at 37.48% examples, 764757 words/s, in_qsize 15, out_qsize 0\n",
      "2022-11-27 15:05:30,867 : $(levelname)s : EPOCH 27 - PROGRESS: at 46.78% examples, 764898 words/s, in_qsize 16, out_qsize 0\n",
      "2022-11-27 15:05:31,867 : $(levelname)s : EPOCH 27 - PROGRESS: at 56.18% examples, 766643 words/s, in_qsize 15, out_qsize 0\n",
      "2022-11-27 15:05:32,871 : $(levelname)s : EPOCH 27 - PROGRESS: at 64.84% examples, 758606 words/s, in_qsize 14, out_qsize 1\n",
      "2022-11-27 15:05:33,898 : $(levelname)s : EPOCH 27 - PROGRESS: at 73.51% examples, 750289 words/s, in_qsize 15, out_qsize 0\n",
      "2022-11-27 15:05:34,910 : $(levelname)s : EPOCH 27 - PROGRESS: at 81.88% examples, 742170 words/s, in_qsize 15, out_qsize 0\n",
      "2022-11-27 15:05:35,927 : $(levelname)s : EPOCH 27 - PROGRESS: at 91.31% examples, 744235 words/s, in_qsize 15, out_qsize 0\n",
      "2022-11-27 15:05:36,922 : $(levelname)s : EPOCH 27: training on 9227204 raw words (8222775 effective words) took 11.1s, 741719 effective words/s\n",
      "2022-11-27 15:05:37,981 : $(levelname)s : EPOCH 28 - PROGRESS: at 8.47% examples, 672259 words/s, in_qsize 15, out_qsize 0\n",
      "2022-11-27 15:05:38,989 : $(levelname)s : EPOCH 28 - PROGRESS: at 18.21% examples, 733069 words/s, in_qsize 15, out_qsize 0\n",
      "2022-11-27 15:05:39,989 : $(levelname)s : EPOCH 28 - PROGRESS: at 27.75% examples, 749738 words/s, in_qsize 15, out_qsize 0\n",
      "2022-11-27 15:05:40,991 : $(levelname)s : EPOCH 28 - PROGRESS: at 36.51% examples, 742540 words/s, in_qsize 16, out_qsize 1\n",
      "2022-11-27 15:05:42,009 : $(levelname)s : EPOCH 28 - PROGRESS: at 45.48% examples, 739196 words/s, in_qsize 15, out_qsize 0\n",
      "2022-11-27 15:05:43,014 : $(levelname)s : EPOCH 28 - PROGRESS: at 55.32% examples, 750347 words/s, in_qsize 15, out_qsize 0\n",
      "2022-11-27 15:05:44,015 : $(levelname)s : EPOCH 28 - PROGRESS: at 64.62% examples, 752485 words/s, in_qsize 15, out_qsize 0\n",
      "2022-11-27 15:05:45,016 : $(levelname)s : EPOCH 28 - PROGRESS: at 73.94% examples, 754087 words/s, in_qsize 15, out_qsize 0\n",
      "2022-11-27 15:05:46,028 : $(levelname)s : EPOCH 28 - PROGRESS: at 83.83% examples, 759320 words/s, in_qsize 15, out_qsize 0\n",
      "2022-11-27 15:05:47,028 : $(levelname)s : EPOCH 28 - PROGRESS: at 92.61% examples, 755494 words/s, in_qsize 15, out_qsize 1\n",
      "2022-11-27 15:05:47,725 : $(levelname)s : EPOCH 28: training on 9227204 raw words (8222193 effective words) took 10.8s, 762902 effective words/s\n",
      "2022-11-27 15:05:48,752 : $(levelname)s : EPOCH 29 - PROGRESS: at 8.04% examples, 651213 words/s, in_qsize 15, out_qsize 0\n",
      "2022-11-27 15:05:49,776 : $(levelname)s : EPOCH 29 - PROGRESS: at 17.68% examples, 712891 words/s, in_qsize 15, out_qsize 0\n",
      "2022-11-27 15:05:50,810 : $(levelname)s : EPOCH 29 - PROGRESS: at 26.88% examples, 719711 words/s, in_qsize 15, out_qsize 0\n",
      "2022-11-27 15:05:51,819 : $(levelname)s : EPOCH 29 - PROGRESS: at 36.29% examples, 731458 words/s, in_qsize 15, out_qsize 0\n",
      "2022-11-27 15:05:52,834 : $(levelname)s : EPOCH 29 - PROGRESS: at 45.27% examples, 730857 words/s, in_qsize 15, out_qsize 0\n",
      "2022-11-27 15:05:53,846 : $(levelname)s : EPOCH 29 - PROGRESS: at 54.78% examples, 738198 words/s, in_qsize 15, out_qsize 0\n",
      "2022-11-27 15:05:54,846 : $(levelname)s : EPOCH 29 - PROGRESS: at 63.97% examples, 740867 words/s, in_qsize 15, out_qsize 0\n",
      "2022-11-27 15:05:55,858 : $(levelname)s : EPOCH 29 - PROGRESS: at 73.62% examples, 746056 words/s, in_qsize 15, out_qsize 0\n",
      "2022-11-27 15:05:56,865 : $(levelname)s : EPOCH 29 - PROGRESS: at 82.53% examples, 743847 words/s, in_qsize 15, out_qsize 0\n",
      "2022-11-27 15:05:57,876 : $(levelname)s : EPOCH 29 - PROGRESS: at 92.07% examples, 746888 words/s, in_qsize 15, out_qsize 0\n",
      "2022-11-27 15:05:58,715 : $(levelname)s : EPOCH 29: training on 9227204 raw words (8221899 effective words) took 11.0s, 749143 effective words/s\n",
      "2022-11-27 15:05:59,751 : $(levelname)s : EPOCH 30 - PROGRESS: at 8.37% examples, 677774 words/s, in_qsize 15, out_qsize 0\n",
      "2022-11-27 15:06:00,755 : $(levelname)s : EPOCH 30 - PROGRESS: at 17.14% examples, 697690 words/s, in_qsize 16, out_qsize 3\n",
      "2022-11-27 15:06:01,784 : $(levelname)s : EPOCH 30 - PROGRESS: at 26.02% examples, 702144 words/s, in_qsize 15, out_qsize 0\n",
      "2022-11-27 15:06:02,848 : $(levelname)s : EPOCH 30 - PROGRESS: at 34.78% examples, 695912 words/s, in_qsize 16, out_qsize 0\n",
      "2022-11-27 15:06:03,862 : $(levelname)s : EPOCH 30 - PROGRESS: at 43.97% examples, 706033 words/s, in_qsize 15, out_qsize 0\n",
      "2022-11-27 15:06:04,862 : $(levelname)s : EPOCH 30 - PROGRESS: at 53.27% examples, 715866 words/s, in_qsize 15, out_qsize 0\n",
      "2022-11-27 15:06:05,874 : $(levelname)s : EPOCH 30 - PROGRESS: at 62.36% examples, 719241 words/s, in_qsize 16, out_qsize 1\n",
      "2022-11-27 15:06:06,903 : $(levelname)s : EPOCH 30 - PROGRESS: at 71.78% examples, 723505 words/s, in_qsize 16, out_qsize 0\n",
      "2022-11-27 15:06:07,957 : $(levelname)s : EPOCH 30 - PROGRESS: at 81.34% examples, 726126 words/s, in_qsize 15, out_qsize 2\n",
      "2022-11-27 15:06:08,957 : $(levelname)s : EPOCH 30 - PROGRESS: at 90.76% examples, 730531 words/s, in_qsize 15, out_qsize 0\n",
      "2022-11-27 15:06:09,934 : $(levelname)s : EPOCH 30: training on 9227204 raw words (8223370 effective words) took 11.2s, 734552 effective words/s\n",
      "2022-11-27 15:06:10,984 : $(levelname)s : EPOCH 31 - PROGRESS: at 7.93% examples, 630262 words/s, in_qsize 15, out_qsize 0\n",
      "2022-11-27 15:06:11,992 : $(levelname)s : EPOCH 31 - PROGRESS: at 17.46% examples, 703158 words/s, in_qsize 14, out_qsize 1\n",
      "2022-11-27 15:06:13,006 : $(levelname)s : EPOCH 31 - PROGRESS: at 26.67% examples, 717737 words/s, in_qsize 15, out_qsize 0\n",
      "2022-11-27 15:06:14,039 : $(levelname)s : EPOCH 31 - PROGRESS: at 36.51% examples, 734513 words/s, in_qsize 16, out_qsize 0\n",
      "2022-11-27 15:06:15,041 : $(levelname)s : EPOCH 31 - PROGRESS: at 44.94% examples, 726562 words/s, in_qsize 11, out_qsize 4\n",
      "2022-11-27 15:06:16,050 : $(levelname)s : EPOCH 31 - PROGRESS: at 54.67% examples, 737836 words/s, in_qsize 15, out_qsize 0\n",
      "2022-11-27 15:06:17,103 : $(levelname)s : EPOCH 31 - PROGRESS: at 64.19% examples, 738735 words/s, in_qsize 15, out_qsize 0\n",
      "2022-11-27 15:06:18,113 : $(levelname)s : EPOCH 31 - PROGRESS: at 74.05% examples, 746742 words/s, in_qsize 15, out_qsize 0\n",
      "2022-11-27 15:06:19,120 : $(levelname)s : EPOCH 31 - PROGRESS: at 83.18% examples, 746280 words/s, in_qsize 15, out_qsize 0\n",
      "2022-11-27 15:06:20,128 : $(levelname)s : EPOCH 31 - PROGRESS: at 92.50% examples, 747695 words/s, in_qsize 15, out_qsize 0\n",
      "2022-11-27 15:06:20,921 : $(levelname)s : EPOCH 31: training on 9227204 raw words (8223350 effective words) took 11.0s, 749740 effective words/s\n",
      "2022-11-27 15:06:20,921 : $(levelname)s : Word2Vec lifecycle event {'msg': 'training on 295270528 raw words (263120043 effective words) took 358.6s, 733724 effective words/s', 'datetime': '2022-11-27T15:06:20.921523', 'gensim': '4.2.0', 'python': '3.9.15 (main, Nov 23 2022, 09:27:34) [MSC v.1916 64 bit (AMD64)]', 'platform': 'Windows-10-10.0.19045-SP0', 'event': 'train'}\n"
     ]
    },
    {
     "name": "stdout",
     "output_type": "stream",
     "text": [
      "CPU times: total: 18min 10s\n",
      "Wall time: 5min 58s\n"
     ]
    },
    {
     "data": {
      "text/plain": [
       "(263120043, 295270528)"
      ]
     },
     "execution_count": 60,
     "metadata": {},
     "output_type": "execute_result"
    }
   ],
   "source": [
    "%%time\n",
    "w2v_model.train(documents,total_examples=len(documents),epochs=W2V_EPOCH)"
   ]
  },
  {
   "cell_type": "code",
   "execution_count": 61,
   "metadata": {},
   "outputs": [
    {
     "data": {
      "text/plain": [
       "[('luv', 0.5617384910583496),\n",
       " ('loves', 0.553658127784729),\n",
       " ('loved', 0.5402815341949463),\n",
       " ('amazing', 0.5181358456611633),\n",
       " ('adore', 0.4984983205795288),\n",
       " ('looove', 0.4813774824142456),\n",
       " ('awesome', 0.4759594798088074),\n",
       " ('loooove', 0.45128104090690613),\n",
       " ('loveee', 0.4496622085571289),\n",
       " ('lovee', 0.44613930583000183)]"
      ]
     },
     "execution_count": 61,
     "metadata": {},
     "output_type": "execute_result"
    }
   ],
   "source": [
    "w2v_model.wv.most_similar('love')"
   ]
  },
  {
   "cell_type": "markdown",
   "metadata": {},
   "source": [
    "### Tokenize Text"
   ]
  },
  {
   "cell_type": "code",
   "execution_count": 62,
   "metadata": {},
   "outputs": [
    {
     "name": "stdout",
     "output_type": "stream",
     "text": [
      "Total Words :  290419\n",
      "CPU times: total: 22.5 s\n",
      "Wall time: 24 s\n"
     ]
    }
   ],
   "source": [
    "%%time\n",
    "tokenizer=Tokenizer()\n",
    "tokenizer.fit_on_texts(df_train.text)\n",
    "\n",
    "vocab_size=len(tokenizer.word_index)+1\n",
    "print('Total Words : ',vocab_size)"
   ]
  },
  {
   "cell_type": "code",
   "execution_count": 63,
   "metadata": {},
   "outputs": [
    {
     "name": "stdout",
     "output_type": "stream",
     "text": [
      "CPU times: total: 25.9 s\n",
      "Wall time: 27.5 s\n"
     ]
    }
   ],
   "source": [
    "%%time\n",
    "x_train=pad_sequences(tokenizer.texts_to_sequences(df_train.text),maxlen=SEQUENCE_LENGTH)\n",
    "x_test=pad_sequences(tokenizer.texts_to_sequences(df_test),maxlen=SEQUENCE_LENGTH)"
   ]
  },
  {
   "cell_type": "markdown",
   "metadata": {},
   "source": [
    "### Label Encoder"
   ]
  },
  {
   "cell_type": "code",
   "execution_count": 64,
   "metadata": {},
   "outputs": [
    {
     "data": {
      "text/plain": [
       "['POSITIVE', 'NEGATIVE', 'NEUTRAL']"
      ]
     },
     "execution_count": 64,
     "metadata": {},
     "output_type": "execute_result"
    }
   ],
   "source": [
    "labels=df_train.target.unique().tolist()\n",
    "labels.append(NEUTRAL)\n",
    "labels"
   ]
  },
  {
   "cell_type": "code",
   "execution_count": 66,
   "metadata": {},
   "outputs": [
    {
     "name": "stdout",
     "output_type": "stream",
     "text": [
      "y_train  (1280000, 1)\n",
      "y_test  (320000, 1)\n"
     ]
    }
   ],
   "source": [
    "encoder=LabelEncoder()\n",
    "encoder.fit(df_train.target.tolist())\n",
    "\n",
    "y_train=encoder.transform(df_train.target.tolist())\n",
    "y_test=encoder.transform(df_test.target.tolist())\n",
    "\n",
    "y_train=y_train.reshape(-1,1)\n",
    "y_test=y_test.reshape(-1,1)\n",
    "\n",
    "print('y_train ',y_train.shape)\n",
    "print('y_test ',y_test.shape)"
   ]
  },
  {
   "cell_type": "code",
   "execution_count": 67,
   "metadata": {},
   "outputs": [
    {
     "name": "stdout",
     "output_type": "stream",
     "text": [
      "x_train (1280000, 300)\n",
      "y_train (1280000, 1)\n",
      "\n",
      "x_test (6, 300)\n",
      "y_test (320000, 1)\n"
     ]
    }
   ],
   "source": [
    "print(\"x_train\", x_train.shape)\n",
    "print(\"y_train\", y_train.shape)\n",
    "print()\n",
    "print(\"x_test\", x_test.shape)\n",
    "print(\"y_test\", y_test.shape)"
   ]
  },
  {
   "cell_type": "code",
   "execution_count": 68,
   "metadata": {},
   "outputs": [
    {
     "data": {
      "text/plain": [
       "array([[1],\n",
       "       [1],\n",
       "       [1],\n",
       "       [0],\n",
       "       [1],\n",
       "       [1],\n",
       "       [1],\n",
       "       [1],\n",
       "       [1],\n",
       "       [1]])"
      ]
     },
     "execution_count": 68,
     "metadata": {},
     "output_type": "execute_result"
    }
   ],
   "source": [
    "y_train[:10]"
   ]
  },
  {
   "cell_type": "markdown",
   "metadata": {},
   "source": [
    "### Embedding Layer"
   ]
  },
  {
   "cell_type": "code",
   "execution_count": 69,
   "metadata": {},
   "outputs": [
    {
     "name": "stdout",
     "output_type": "stream",
     "text": [
      "(290419, 300)\n"
     ]
    }
   ],
   "source": [
    "embedding_matrix=np.zeros((vocab_size,W2V_SIZE))\n",
    "for word, i in tokenizer.word_index.items():\n",
    "  if word in w2v_model.wv:\n",
    "    embedding_matrix[i]=w2v_model.wv[word]\n",
    "print(embedding_matrix.shape)"
   ]
  },
  {
   "cell_type": "code",
   "execution_count": 70,
   "metadata": {},
   "outputs": [],
   "source": [
    "embedding_layer=Embedding(vocab_size,W2V_SIZE,weights=[embedding_matrix],input_length=SEQUENCE_LENGTH,trainable=False)"
   ]
  },
  {
   "cell_type": "markdown",
   "metadata": {},
   "source": [
    "### Build Model"
   ]
  },
  {
   "cell_type": "code",
   "execution_count": 71,
   "metadata": {},
   "outputs": [
    {
     "name": "stdout",
     "output_type": "stream",
     "text": [
      "Model: \"sequential\"\n",
      "_________________________________________________________________\n",
      " Layer (type)                Output Shape              Param #   \n",
      "=================================================================\n",
      " embedding (Embedding)       (None, 300, 300)          87125700  \n",
      "                                                                 \n",
      " dropout (Dropout)           (None, 300, 300)          0         \n",
      "                                                                 \n",
      " lstm (LSTM)                 (None, 100)               160400    \n",
      "                                                                 \n",
      " dense (Dense)               (None, 1)                 101       \n",
      "                                                                 \n",
      "=================================================================\n",
      "Total params: 87,286,201\n",
      "Trainable params: 160,501\n",
      "Non-trainable params: 87,125,700\n",
      "_________________________________________________________________\n"
     ]
    }
   ],
   "source": [
    "model=Sequential()\n",
    "model.add(embedding_layer)\n",
    "model.add(Dropout(0.5))\n",
    "model.add(LSTM(100,dropout=0.2,recurrent_dropout=0.2))\n",
    "model.add(Dense(1,activation='sigmoid'))\n",
    "\n",
    "model.summary()"
   ]
  },
  {
   "cell_type": "markdown",
   "metadata": {},
   "source": [
    "### Compile Model"
   ]
  },
  {
   "cell_type": "code",
   "execution_count": 72,
   "metadata": {},
   "outputs": [],
   "source": [
    "model.compile(loss='binary_crossentropy',\n",
    "              optimizer=\"adam\",\n",
    "              metrics=['accuracy'])"
   ]
  },
  {
   "cell_type": "markdown",
   "metadata": {},
   "source": [
    "### Callbacks"
   ]
  },
  {
   "cell_type": "code",
   "execution_count": 73,
   "metadata": {},
   "outputs": [],
   "source": [
    "callbacks=[ReduceLROnPlateau(monitor='val_loss',patience=5,cooldown=0),EarlyStopping(monitor='val_acc',min_delta=1e-4,patience=5)]"
   ]
  },
  {
   "cell_type": "markdown",
   "metadata": {},
   "source": [
    "### Model Train"
   ]
  },
  {
   "cell_type": "code",
   "execution_count": 74,
   "metadata": {},
   "outputs": [
    {
     "name": "stdout",
     "output_type": "stream",
     "text": [
      "Epoch 1/8\n",
      "1125/1125 [==============================] - ETA: 0s - loss: 0.5042 - accuracy: 0.7506 WARNING:tensorflow:Early stopping conditioned on metric `val_acc` which is not available. Available metrics are: loss,accuracy,val_loss,val_accuracy,lr\n"
     ]
    },
    {
     "name": "stderr",
     "output_type": "stream",
     "text": [
      "2022-11-27 19:48:04,373 : $(levelname)s : Early stopping conditioned on metric `val_acc` which is not available. Available metrics are: loss,accuracy,val_loss,val_accuracy,lr\n"
     ]
    },
    {
     "name": "stdout",
     "output_type": "stream",
     "text": [
      "1125/1125 [==============================] - 14479s 13s/step - loss: 0.5042 - accuracy: 0.7506 - val_loss: 0.4676 - val_accuracy: 0.7769 - lr: 0.0010\n",
      "Epoch 2/8\n",
      " 891/1125 [======================>.......] - ETA: 52:09 - loss: 0.4795 - accuracy: 0.7673"
     ]
    }
   ],
   "source": [
    "%%time\n",
    "history=model.fit(x_train,y_train,\n",
    "                  batch_size=BATCH_SIZE,\n",
    "                  epochs=EPOCHS,\n",
    "                  validation_split=0.1,\n",
    "                  verbose=1,\n",
    "                  callbacks=callbacks)"
   ]
  },
  {
   "cell_type": "code",
   "execution_count": null,
   "metadata": {},
   "outputs": [],
   "source": []
  }
 ],
 "metadata": {
  "kernelspec": {
   "display_name": "Python 3.9.15 ('base')",
   "language": "python",
   "name": "python3"
  },
  "language_info": {
   "codemirror_mode": {
    "name": "ipython",
    "version": 3
   },
   "file_extension": ".py",
   "mimetype": "text/x-python",
   "name": "python",
   "nbconvert_exporter": "python",
   "pygments_lexer": "ipython3",
   "version": "3.9.15"
  },
  "orig_nbformat": 4,
  "vscode": {
   "interpreter": {
    "hash": "ad2bdc8ecc057115af97d19610ffacc2b4e99fae6737bb82f5d7fb13d2f2c186"
   }
  }
 },
 "nbformat": 4,
 "nbformat_minor": 2
}
